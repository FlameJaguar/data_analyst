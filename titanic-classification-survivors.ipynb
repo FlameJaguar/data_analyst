{
 "cells": [
  {
   "cell_type": "markdown",
   "id": "2f766bb2",
   "metadata": {
    "papermill": {
     "duration": 0.021783,
     "end_time": "2022-09-19T01:14:24.117947",
     "exception": false,
     "start_time": "2022-09-19T01:14:24.096164",
     "status": "completed"
    },
    "tags": []
   },
   "source": [
    "# **Work flow**\n",
    "\n",
    "1. Libraries and datasets\n",
    "2. Explore the data\n",
    "3. Data cleaning\n",
    "4. Preparing data set trainig and test\n",
    "5. Analyze features of the variables\n",
    "6. Model variables\n",
    "7. Machine learnig models\n",
    "8. Compare models"
   ]
  },
  {
   "cell_type": "markdown",
   "id": "beb633bb",
   "metadata": {
    "papermill": {
     "duration": 0.019915,
     "end_time": "2022-09-19T01:14:24.158424",
     "exception": false,
     "start_time": "2022-09-19T01:14:24.138509",
     "status": "completed"
    },
    "tags": []
   },
   "source": [
    "### About the disaster "
   ]
  },
  {
   "cell_type": "markdown",
   "id": "44664b27",
   "metadata": {
    "papermill": {
     "duration": 0.020096,
     "end_time": "2022-09-19T01:14:24.198800",
     "exception": false,
     "start_time": "2022-09-19T01:14:24.178704",
     "status": "completed"
    },
    "tags": []
   },
   "source": [
    "The sinking of the Titanic is one of the most infamous shipwrecks in history.\n",
    "On April 15, 1912, during her maiden voyage, the widely considered “unsinkable” RMS Titanic sank after colliding with an iceberg. Unfortunately, there weren’t enough lifeboats for everyone onboard, resulting in the death of 1502 out of 2224 passengers and crew.\n",
    "While there was some element of luck involved in surviving, it seems some groups of people were more likely to survive than others.\n",
    "In this challenge, we ask you to build a predictive model that answers the question: “what sorts of people were more likely to survive?” using passenger data (ie name, age, gender, socio-economic class, etc)."
   ]
  },
  {
   "cell_type": "markdown",
   "id": "036ee186",
   "metadata": {
    "papermill": {
     "duration": 0.019879,
     "end_time": "2022-09-19T01:14:24.238745",
     "exception": false,
     "start_time": "2022-09-19T01:14:24.218866",
     "status": "completed"
    },
    "tags": []
   },
   "source": [
    "# 1. Libraries and datasets"
   ]
  },
  {
   "cell_type": "markdown",
   "id": "73a71c8c",
   "metadata": {
    "papermill": {
     "duration": 0.019764,
     "end_time": "2022-09-19T01:14:24.278626",
     "exception": false,
     "start_time": "2022-09-19T01:14:24.258862",
     "status": "completed"
    },
    "tags": []
   },
   "source": [
    "### 1.1. Libraries"
   ]
  },
  {
   "cell_type": "code",
   "execution_count": 1,
   "id": "9200654d",
   "metadata": {
    "execution": {
     "iopub.execute_input": "2022-09-19T01:14:24.320958Z",
     "iopub.status.busy": "2022-09-19T01:14:24.320186Z",
     "iopub.status.idle": "2022-09-19T01:15:10.740594Z",
     "shell.execute_reply": "2022-09-19T01:15:10.739193Z"
    },
    "papermill": {
     "duration": 46.445018,
     "end_time": "2022-09-19T01:15:10.743654",
     "exception": false,
     "start_time": "2022-09-19T01:14:24.298636",
     "status": "completed"
    },
    "tags": []
   },
   "outputs": [
    {
     "name": "stdout",
     "output_type": "stream",
     "text": [
      "Collecting pyspark\r\n",
      "  Downloading pyspark-3.3.0.tar.gz (281.3 MB)\r\n",
      "\u001b[2K     \u001b[90m━━━━━━━━━━━━━━━━━━━━━━━━━━━━━━━━━━━━━━━\u001b[0m \u001b[32m281.3/281.3 MB\u001b[0m \u001b[31m3.8 MB/s\u001b[0m eta \u001b[36m0:00:00\u001b[0m\r\n",
      "\u001b[?25h  Preparing metadata (setup.py) ... \u001b[?25l-\b \bdone\r\n",
      "\u001b[?25hRequirement already satisfied: py4j==0.10.9.5 in /opt/conda/lib/python3.7/site-packages (from pyspark) (0.10.9.5)\r\n",
      "Building wheels for collected packages: pyspark\r\n",
      "  Building wheel for pyspark (setup.py) ... \u001b[?25l-\b \b\\\b \b|\b \b/\b \b-\b \b\\\b \b|\b \b/\b \b-\b \b\\\b \b|\b \b/\b \b-\b \b\\\b \b|\b \b/\b \b-\b \b\\\b \b|\b \b/\b \b-\b \b\\\b \b|\b \b/\b \b-\b \b\\\b \b|\b \b/\b \b-\b \b\\\b \b|\b \b/\b \b-\b \b\\\b \b|\b \b/\b \b-\b \b\\\b \b|\b \b/\b \b-\b \b\\\b \b|\b \b/\b \b-\b \b\\\b \b|\b \b/\b \b-\b \b\\\b \b|\b \b/\b \b-\b \b\\\b \b|\b \b/\b \b-\b \b\\\b \b|\b \bdone\r\n",
      "\u001b[?25h  Created wheel for pyspark: filename=pyspark-3.3.0-py2.py3-none-any.whl size=281764026 sha256=7ed0bc79384159547e058f7fa331db91bb63c791419b4e8dcc0f08ab0545315d\r\n",
      "  Stored in directory: /root/.cache/pip/wheels/7a/8e/1b/f73a52650d2e5f337708d9f6a1750d451a7349a867f928b885\r\n",
      "Successfully built pyspark\r\n",
      "Installing collected packages: pyspark\r\n",
      "Successfully installed pyspark-3.3.0\r\n",
      "\u001b[33mWARNING: Running pip as the 'root' user can result in broken permissions and conflicting behaviour with the system package manager. It is recommended to use a virtual environment instead: https://pip.pypa.io/warnings/venv\u001b[0m\u001b[33m\r\n",
      "\u001b[0m"
     ]
    }
   ],
   "source": [
    "!pip install pyspark"
   ]
  },
  {
   "cell_type": "code",
   "execution_count": 2,
   "id": "23e75feb",
   "metadata": {
    "_cell_guid": "b1076dfc-b9ad-4769-8c92-a6c4dae69d19",
    "_uuid": "8f2839f25d086af736a60e9eeb907d3b93b6e0e5",
    "execution": {
     "iopub.execute_input": "2022-09-19T01:15:10.805490Z",
     "iopub.status.busy": "2022-09-19T01:15:10.805058Z",
     "iopub.status.idle": "2022-09-19T01:15:12.657044Z",
     "shell.execute_reply": "2022-09-19T01:15:12.655872Z"
    },
    "papermill": {
     "duration": 1.886406,
     "end_time": "2022-09-19T01:15:12.659624",
     "exception": false,
     "start_time": "2022-09-19T01:15:10.773218",
     "status": "completed"
    },
    "tags": []
   },
   "outputs": [],
   "source": [
    "# Machine Learning\n",
    "import os \n",
    "from sklearn.preprocessing import StandardScaler\n",
    "from sklearn.model_selection import train_test_split\n",
    "from sklearn.ensemble import RandomForestClassifier, GradientBoostingClassifier\n",
    "from sklearn.tree import DecisionTreeClassifier\n",
    "from sklearn.linear_model import LogisticRegression\n",
    "from sklearn.neighbors import KNeighborsClassifier\n",
    "from xgboost import XGBClassifier\n",
    "from catboost import CatBoostClassifier\n",
    "from sklearn.svm import SVC, LinearSVC\n",
    "from sklearn.metrics import accuracy_score, classification_report, confusion_matrix, roc_auc_score, roc_curve, log_loss"
   ]
  },
  {
   "cell_type": "code",
   "execution_count": 3,
   "id": "b2346d64",
   "metadata": {
    "execution": {
     "iopub.execute_input": "2022-09-19T01:15:12.720746Z",
     "iopub.status.busy": "2022-09-19T01:15:12.720290Z",
     "iopub.status.idle": "2022-09-19T01:15:12.795250Z",
     "shell.execute_reply": "2022-09-19T01:15:12.794396Z"
    },
    "papermill": {
     "duration": 0.108293,
     "end_time": "2022-09-19T01:15:12.797758",
     "exception": false,
     "start_time": "2022-09-19T01:15:12.689465",
     "status": "completed"
    },
    "tags": []
   },
   "outputs": [],
   "source": [
    "# Plot\n",
    "import matplotlib.pyplot as plt\n",
    "from matplotlib import style\n",
    "import matplotlib.ticker as ticker\n",
    "import seaborn as sns"
   ]
  },
  {
   "cell_type": "code",
   "execution_count": 4,
   "id": "f716a468",
   "metadata": {
    "execution": {
     "iopub.execute_input": "2022-09-19T01:15:12.858988Z",
     "iopub.status.busy": "2022-09-19T01:15:12.858530Z",
     "iopub.status.idle": "2022-09-19T01:15:12.920616Z",
     "shell.execute_reply": "2022-09-19T01:15:12.919643Z"
    },
    "papermill": {
     "duration": 0.095725,
     "end_time": "2022-09-19T01:15:12.923327",
     "exception": false,
     "start_time": "2022-09-19T01:15:12.827602",
     "status": "completed"
    },
    "tags": []
   },
   "outputs": [],
   "source": [
    "# Data processing\n",
    "import numpy as np # linear algebra\n",
    "import pandas as pd # data processing\n",
    "# Spark libraries\n",
    "from pyspark.sql import SparkSession\n",
    "from pyspark.sql.functions import isnan, when, count, col, lit,row_number\n",
    "from pyspark.sql.types import FloatType, StringType, IntegerType\n",
    "from pyspark.sql import functions as F\n",
    "from pyspark.sql import Window\n",
    "from pyspark.sql.functions import monotonically_increasing_id as m_id\n",
    "import functools"
   ]
  },
  {
   "cell_type": "markdown",
   "id": "304867cb",
   "metadata": {
    "papermill": {
     "duration": 0.02961,
     "end_time": "2022-09-19T01:15:12.984464",
     "exception": false,
     "start_time": "2022-09-19T01:15:12.954854",
     "status": "completed"
    },
    "tags": []
   },
   "source": [
    "### 1.2. Get data"
   ]
  },
  {
   "cell_type": "markdown",
   "id": "eaa959cf",
   "metadata": {
    "papermill": {
     "duration": 0.029307,
     "end_time": "2022-09-19T01:15:13.043323",
     "exception": false,
     "start_time": "2022-09-19T01:15:13.014016",
     "status": "completed"
    },
    "tags": []
   },
   "source": [
    "We going to develop this proyect with dataframes in pandas and pyspark. Bellow cells in relation with pyspark and pandas are pointed out #sp and #pd respectively"
   ]
  },
  {
   "cell_type": "code",
   "execution_count": 5,
   "id": "8be74dce",
   "metadata": {
    "execution": {
     "iopub.execute_input": "2022-09-19T01:15:13.105524Z",
     "iopub.status.busy": "2022-09-19T01:15:13.104175Z",
     "iopub.status.idle": "2022-09-19T01:15:19.493017Z",
     "shell.execute_reply": "2022-09-19T01:15:19.491912Z"
    },
    "papermill": {
     "duration": 6.423508,
     "end_time": "2022-09-19T01:15:19.496247",
     "exception": false,
     "start_time": "2022-09-19T01:15:13.072739",
     "status": "completed"
    },
    "tags": []
   },
   "outputs": [
    {
     "name": "stderr",
     "output_type": "stream",
     "text": [
      "Setting default log level to \"WARN\".\n",
      "To adjust logging level use sc.setLogLevel(newLevel). For SparkR, use setLogLevel(newLevel).\n"
     ]
    },
    {
     "name": "stdout",
     "output_type": "stream",
     "text": [
      "22/09/19 01:15:16 WARN NativeCodeLoader: Unable to load native-hadoop library for your platform... using builtin-java classes where applicable\n"
     ]
    },
    {
     "data": {
      "text/html": [
       "\n",
       "            <div>\n",
       "                <p><b>SparkSession - in-memory</b></p>\n",
       "                \n",
       "        <div>\n",
       "            <p><b>SparkContext</b></p>\n",
       "\n",
       "            <p><a href=\"http://609afb633d31:4040\">Spark UI</a></p>\n",
       "\n",
       "            <dl>\n",
       "              <dt>Version</dt>\n",
       "                <dd><code>v3.3.0</code></dd>\n",
       "              <dt>Master</dt>\n",
       "                <dd><code>local[2]</code></dd>\n",
       "              <dt>AppName</dt>\n",
       "                <dd><code>titanic_prediction</code></dd>\n",
       "            </dl>\n",
       "        </div>\n",
       "        \n",
       "            </div>\n",
       "        "
      ],
      "text/plain": [
       "<pyspark.sql.session.SparkSession at 0x7fce13b035d0>"
      ]
     },
     "execution_count": 5,
     "metadata": {},
     "output_type": "execute_result"
    }
   ],
   "source": [
    "# To use spark, first create a session\n",
    "spark = SparkSession.builder.master(\"local[2]\").appName(\"titanic_prediction\").getOrCreate()\n",
    "spark"
   ]
  },
  {
   "cell_type": "code",
   "execution_count": 6,
   "id": "e8221560",
   "metadata": {
    "execution": {
     "iopub.execute_input": "2022-09-19T01:15:19.565961Z",
     "iopub.status.busy": "2022-09-19T01:15:19.565095Z",
     "iopub.status.idle": "2022-09-19T01:15:19.602318Z",
     "shell.execute_reply": "2022-09-19T01:15:19.601371Z"
    },
    "papermill": {
     "duration": 0.072197,
     "end_time": "2022-09-19T01:15:19.605035",
     "exception": false,
     "start_time": "2022-09-19T01:15:19.532838",
     "status": "completed"
    },
    "tags": []
   },
   "outputs": [],
   "source": [
    "#pandas pd\n",
    "train_data = pd.read_csv(\"/kaggle/input/titanic/train.csv\")\n",
    "test_data = pd.read_csv(\"/kaggle/input/titanic/test.csv\")"
   ]
  },
  {
   "cell_type": "code",
   "execution_count": 7,
   "id": "889a7944",
   "metadata": {
    "execution": {
     "iopub.execute_input": "2022-09-19T01:15:19.668858Z",
     "iopub.status.busy": "2022-09-19T01:15:19.668043Z",
     "iopub.status.idle": "2022-09-19T01:15:26.029312Z",
     "shell.execute_reply": "2022-09-19T01:15:26.027958Z"
    },
    "papermill": {
     "duration": 6.39809,
     "end_time": "2022-09-19T01:15:26.033604",
     "exception": false,
     "start_time": "2022-09-19T01:15:19.635514",
     "status": "completed"
    },
    "tags": []
   },
   "outputs": [],
   "source": [
    "#pyspark sp\n",
    "train_data_sp = spark.read.csv(\"/kaggle/input/titanic/train.csv\", inferSchema=True, header=True)\n",
    "test_data_sp = spark.read.csv(\"/kaggle/input/titanic/test.csv\", inferSchema=True, header=True)"
   ]
  },
  {
   "cell_type": "markdown",
   "id": "5badfe7e",
   "metadata": {
    "papermill": {
     "duration": 0.045931,
     "end_time": "2022-09-19T01:15:26.125459",
     "exception": false,
     "start_time": "2022-09-19T01:15:26.079528",
     "status": "completed"
    },
    "tags": []
   },
   "source": [
    "# 2. Explore the data\n",
    "\n",
    "Before to training any predictive model, or inside realice any calculate, it's important make a descriptive exploration about the data. This method allow us the information of each variable, and look up posibles mistakes. \n",
    "\n",
    "º **PassengerId**: unique identifier of the passenger.\\\n",
    "º **Survived**: whether the passenger survived the shipwreck, coded as 0 (no) and 1 (yes). This is the response variable of interest to predict.\\\n",
    "º **Pclass**: class to which the passenger belonged: 1, 2 or 3.\\\n",
    "º **Name**: passenger's name.\\\n",
    "º **Sex**: passenger's sex.\\\n",
    "º **Age**: passenger's age.\\\n",
    "º **SibSp**: number of siblings on the ship.\\\n",
    "º **Parch**: number of parents and children on the ship.\\\n",
    "º **Ticket**: ticket identifier.\\\n",
    "º **Fare**: price paid for the ticket.\\\n",
    "º **Cabin**: identifier of the cabin assigned to the passenger.\\\n",
    "º **Embarked**: port where the passenger embarked.\n"
   ]
  },
  {
   "cell_type": "markdown",
   "id": "2c30761d",
   "metadata": {
    "papermill": {
     "duration": 0.046081,
     "end_time": "2022-09-19T01:15:26.216803",
     "exception": false,
     "start_time": "2022-09-19T01:15:26.170722",
     "status": "completed"
    },
    "tags": []
   },
   "source": [
    "### 2.1. Shows some data"
   ]
  },
  {
   "cell_type": "code",
   "execution_count": 8,
   "id": "8167e3a2",
   "metadata": {
    "execution": {
     "iopub.execute_input": "2022-09-19T01:15:26.279203Z",
     "iopub.status.busy": "2022-09-19T01:15:26.278796Z",
     "iopub.status.idle": "2022-09-19T01:15:26.307157Z",
     "shell.execute_reply": "2022-09-19T01:15:26.306270Z"
    },
    "papermill": {
     "duration": 0.062348,
     "end_time": "2022-09-19T01:15:26.309813",
     "exception": false,
     "start_time": "2022-09-19T01:15:26.247465",
     "status": "completed"
    },
    "tags": []
   },
   "outputs": [
    {
     "data": {
      "text/html": [
       "<div>\n",
       "<style scoped>\n",
       "    .dataframe tbody tr th:only-of-type {\n",
       "        vertical-align: middle;\n",
       "    }\n",
       "\n",
       "    .dataframe tbody tr th {\n",
       "        vertical-align: top;\n",
       "    }\n",
       "\n",
       "    .dataframe thead th {\n",
       "        text-align: right;\n",
       "    }\n",
       "</style>\n",
       "<table border=\"1\" class=\"dataframe\">\n",
       "  <thead>\n",
       "    <tr style=\"text-align: right;\">\n",
       "      <th></th>\n",
       "      <th>PassengerId</th>\n",
       "      <th>Survived</th>\n",
       "      <th>Pclass</th>\n",
       "      <th>Name</th>\n",
       "      <th>Sex</th>\n",
       "      <th>Age</th>\n",
       "      <th>SibSp</th>\n",
       "      <th>Parch</th>\n",
       "      <th>Ticket</th>\n",
       "      <th>Fare</th>\n",
       "      <th>Cabin</th>\n",
       "      <th>Embarked</th>\n",
       "    </tr>\n",
       "  </thead>\n",
       "  <tbody>\n",
       "    <tr>\n",
       "      <th>0</th>\n",
       "      <td>1</td>\n",
       "      <td>0</td>\n",
       "      <td>3</td>\n",
       "      <td>Braund, Mr. Owen Harris</td>\n",
       "      <td>male</td>\n",
       "      <td>22.0</td>\n",
       "      <td>1</td>\n",
       "      <td>0</td>\n",
       "      <td>A/5 21171</td>\n",
       "      <td>7.2500</td>\n",
       "      <td>NaN</td>\n",
       "      <td>S</td>\n",
       "    </tr>\n",
       "    <tr>\n",
       "      <th>1</th>\n",
       "      <td>2</td>\n",
       "      <td>1</td>\n",
       "      <td>1</td>\n",
       "      <td>Cumings, Mrs. John Bradley (Florence Briggs Th...</td>\n",
       "      <td>female</td>\n",
       "      <td>38.0</td>\n",
       "      <td>1</td>\n",
       "      <td>0</td>\n",
       "      <td>PC 17599</td>\n",
       "      <td>71.2833</td>\n",
       "      <td>C85</td>\n",
       "      <td>C</td>\n",
       "    </tr>\n",
       "    <tr>\n",
       "      <th>2</th>\n",
       "      <td>3</td>\n",
       "      <td>1</td>\n",
       "      <td>3</td>\n",
       "      <td>Heikkinen, Miss. Laina</td>\n",
       "      <td>female</td>\n",
       "      <td>26.0</td>\n",
       "      <td>0</td>\n",
       "      <td>0</td>\n",
       "      <td>STON/O2. 3101282</td>\n",
       "      <td>7.9250</td>\n",
       "      <td>NaN</td>\n",
       "      <td>S</td>\n",
       "    </tr>\n",
       "    <tr>\n",
       "      <th>3</th>\n",
       "      <td>4</td>\n",
       "      <td>1</td>\n",
       "      <td>1</td>\n",
       "      <td>Futrelle, Mrs. Jacques Heath (Lily May Peel)</td>\n",
       "      <td>female</td>\n",
       "      <td>35.0</td>\n",
       "      <td>1</td>\n",
       "      <td>0</td>\n",
       "      <td>113803</td>\n",
       "      <td>53.1000</td>\n",
       "      <td>C123</td>\n",
       "      <td>S</td>\n",
       "    </tr>\n",
       "  </tbody>\n",
       "</table>\n",
       "</div>"
      ],
      "text/plain": [
       "   PassengerId  Survived  Pclass  \\\n",
       "0            1         0       3   \n",
       "1            2         1       1   \n",
       "2            3         1       3   \n",
       "3            4         1       1   \n",
       "\n",
       "                                                Name     Sex   Age  SibSp  \\\n",
       "0                            Braund, Mr. Owen Harris    male  22.0      1   \n",
       "1  Cumings, Mrs. John Bradley (Florence Briggs Th...  female  38.0      1   \n",
       "2                             Heikkinen, Miss. Laina  female  26.0      0   \n",
       "3       Futrelle, Mrs. Jacques Heath (Lily May Peel)  female  35.0      1   \n",
       "\n",
       "   Parch            Ticket     Fare Cabin Embarked  \n",
       "0      0         A/5 21171   7.2500   NaN        S  \n",
       "1      0          PC 17599  71.2833   C85        C  \n",
       "2      0  STON/O2. 3101282   7.9250   NaN        S  \n",
       "3      0            113803  53.1000  C123        S  "
      ]
     },
     "execution_count": 8,
     "metadata": {},
     "output_type": "execute_result"
    }
   ],
   "source": [
    "# pd shows some data\n",
    "train_data.head(4)"
   ]
  },
  {
   "cell_type": "code",
   "execution_count": 9,
   "id": "0e7883bb",
   "metadata": {
    "execution": {
     "iopub.execute_input": "2022-09-19T01:15:26.376848Z",
     "iopub.status.busy": "2022-09-19T01:15:26.376395Z",
     "iopub.status.idle": "2022-09-19T01:15:26.798067Z",
     "shell.execute_reply": "2022-09-19T01:15:26.796033Z"
    },
    "papermill": {
     "duration": 0.457193,
     "end_time": "2022-09-19T01:15:26.801426",
     "exception": false,
     "start_time": "2022-09-19T01:15:26.344233",
     "status": "completed"
    },
    "tags": []
   },
   "outputs": [
    {
     "name": "stdout",
     "output_type": "stream",
     "text": [
      "+-----------+--------+------+--------------------+------+----+-----+-----+----------------+-------+-----+--------+\n",
      "|PassengerId|Survived|Pclass|                Name|   Sex| Age|SibSp|Parch|          Ticket|   Fare|Cabin|Embarked|\n",
      "+-----------+--------+------+--------------------+------+----+-----+-----+----------------+-------+-----+--------+\n",
      "|          1|       0|     3|Braund, Mr. Owen ...|  male|22.0|    1|    0|       A/5 21171|   7.25| null|       S|\n",
      "|          2|       1|     1|Cumings, Mrs. Joh...|female|38.0|    1|    0|        PC 17599|71.2833|  C85|       C|\n",
      "|          3|       1|     3|Heikkinen, Miss. ...|female|26.0|    0|    0|STON/O2. 3101282|  7.925| null|       S|\n",
      "|          4|       1|     1|Futrelle, Mrs. Ja...|female|35.0|    1|    0|          113803|   53.1| C123|       S|\n",
      "+-----------+--------+------+--------------------+------+----+-----+-----+----------------+-------+-----+--------+\n",
      "only showing top 4 rows\n",
      "\n"
     ]
    }
   ],
   "source": [
    "# sp shows some data\n",
    "train_data_sp.show(4)"
   ]
  },
  {
   "cell_type": "markdown",
   "id": "acd8c368",
   "metadata": {
    "execution": {
     "iopub.execute_input": "2022-08-25T02:42:09.740936Z",
     "iopub.status.busy": "2022-08-25T02:42:09.740480Z",
     "iopub.status.idle": "2022-08-25T02:42:09.748478Z",
     "shell.execute_reply": "2022-08-25T02:42:09.746670Z",
     "shell.execute_reply.started": "2022-08-25T02:42:09.740899Z"
    },
    "papermill": {
     "duration": 0.042846,
     "end_time": "2022-09-19T01:15:26.875511",
     "exception": false,
     "start_time": "2022-09-19T01:15:26.832665",
     "status": "completed"
    },
    "tags": []
   },
   "source": [
    "### 2.2. Types of each column"
   ]
  },
  {
   "cell_type": "code",
   "execution_count": 10,
   "id": "81eb3724",
   "metadata": {
    "execution": {
     "iopub.execute_input": "2022-09-19T01:15:26.943186Z",
     "iopub.status.busy": "2022-09-19T01:15:26.942775Z",
     "iopub.status.idle": "2022-09-19T01:15:26.975945Z",
     "shell.execute_reply": "2022-09-19T01:15:26.974256Z"
    },
    "papermill": {
     "duration": 0.069785,
     "end_time": "2022-09-19T01:15:26.979118",
     "exception": false,
     "start_time": "2022-09-19T01:15:26.909333",
     "status": "completed"
    },
    "tags": []
   },
   "outputs": [
    {
     "name": "stdout",
     "output_type": "stream",
     "text": [
      "<class 'pandas.core.frame.DataFrame'>\n",
      "RangeIndex: 891 entries, 0 to 890\n",
      "Data columns (total 12 columns):\n",
      " #   Column       Non-Null Count  Dtype  \n",
      "---  ------       --------------  -----  \n",
      " 0   PassengerId  891 non-null    int64  \n",
      " 1   Survived     891 non-null    int64  \n",
      " 2   Pclass       891 non-null    int64  \n",
      " 3   Name         891 non-null    object \n",
      " 4   Sex          891 non-null    object \n",
      " 5   Age          714 non-null    float64\n",
      " 6   SibSp        891 non-null    int64  \n",
      " 7   Parch        891 non-null    int64  \n",
      " 8   Ticket       891 non-null    object \n",
      " 9   Fare         891 non-null    float64\n",
      " 10  Cabin        204 non-null    object \n",
      " 11  Embarked     889 non-null    object \n",
      "dtypes: float64(2), int64(5), object(5)\n",
      "memory usage: 83.7+ KB\n"
     ]
    }
   ],
   "source": [
    "# pd\n",
    "train_data.info()"
   ]
  },
  {
   "cell_type": "code",
   "execution_count": 11,
   "id": "3b5d369e",
   "metadata": {
    "execution": {
     "iopub.execute_input": "2022-09-19T01:15:27.053925Z",
     "iopub.status.busy": "2022-09-19T01:15:27.053363Z",
     "iopub.status.idle": "2022-09-19T01:15:27.071974Z",
     "shell.execute_reply": "2022-09-19T01:15:27.069810Z"
    },
    "papermill": {
     "duration": 0.053281,
     "end_time": "2022-09-19T01:15:27.074560",
     "exception": false,
     "start_time": "2022-09-19T01:15:27.021279",
     "status": "completed"
    },
    "tags": []
   },
   "outputs": [
    {
     "name": "stdout",
     "output_type": "stream",
     "text": [
      "<class 'pandas.core.frame.DataFrame'>\n",
      "RangeIndex: 418 entries, 0 to 417\n",
      "Data columns (total 11 columns):\n",
      " #   Column       Non-Null Count  Dtype  \n",
      "---  ------       --------------  -----  \n",
      " 0   PassengerId  418 non-null    int64  \n",
      " 1   Pclass       418 non-null    int64  \n",
      " 2   Name         418 non-null    object \n",
      " 3   Sex          418 non-null    object \n",
      " 4   Age          332 non-null    float64\n",
      " 5   SibSp        418 non-null    int64  \n",
      " 6   Parch        418 non-null    int64  \n",
      " 7   Ticket       418 non-null    object \n",
      " 8   Fare         417 non-null    float64\n",
      " 9   Cabin        91 non-null     object \n",
      " 10  Embarked     418 non-null    object \n",
      "dtypes: float64(2), int64(4), object(5)\n",
      "memory usage: 36.0+ KB\n"
     ]
    }
   ],
   "source": [
    "# pd\n",
    "test_data.info()"
   ]
  },
  {
   "cell_type": "code",
   "execution_count": 12,
   "id": "02c7961b",
   "metadata": {
    "execution": {
     "iopub.execute_input": "2022-09-19T01:15:27.137150Z",
     "iopub.status.busy": "2022-09-19T01:15:27.136763Z",
     "iopub.status.idle": "2022-09-19T01:15:27.150980Z",
     "shell.execute_reply": "2022-09-19T01:15:27.149756Z"
    },
    "papermill": {
     "duration": 0.049167,
     "end_time": "2022-09-19T01:15:27.154303",
     "exception": false,
     "start_time": "2022-09-19T01:15:27.105136",
     "status": "completed"
    },
    "tags": []
   },
   "outputs": [
    {
     "name": "stdout",
     "output_type": "stream",
     "text": [
      "root\n",
      " |-- PassengerId: integer (nullable = true)\n",
      " |-- Survived: integer (nullable = true)\n",
      " |-- Pclass: integer (nullable = true)\n",
      " |-- Name: string (nullable = true)\n",
      " |-- Sex: string (nullable = true)\n",
      " |-- Age: double (nullable = true)\n",
      " |-- SibSp: integer (nullable = true)\n",
      " |-- Parch: integer (nullable = true)\n",
      " |-- Ticket: string (nullable = true)\n",
      " |-- Fare: double (nullable = true)\n",
      " |-- Cabin: string (nullable = true)\n",
      " |-- Embarked: string (nullable = true)\n",
      "\n"
     ]
    }
   ],
   "source": [
    "# sp\n",
    "train_data_sp.printSchema()"
   ]
  },
  {
   "cell_type": "code",
   "execution_count": 13,
   "id": "ae9a910a",
   "metadata": {
    "execution": {
     "iopub.execute_input": "2022-09-19T01:15:27.241341Z",
     "iopub.status.busy": "2022-09-19T01:15:27.240390Z",
     "iopub.status.idle": "2022-09-19T01:15:27.248541Z",
     "shell.execute_reply": "2022-09-19T01:15:27.246545Z"
    },
    "papermill": {
     "duration": 0.049366,
     "end_time": "2022-09-19T01:15:27.251533",
     "exception": false,
     "start_time": "2022-09-19T01:15:27.202167",
     "status": "completed"
    },
    "tags": []
   },
   "outputs": [
    {
     "name": "stdout",
     "output_type": "stream",
     "text": [
      "root\n",
      " |-- PassengerId: integer (nullable = true)\n",
      " |-- Pclass: integer (nullable = true)\n",
      " |-- Name: string (nullable = true)\n",
      " |-- Sex: string (nullable = true)\n",
      " |-- Age: double (nullable = true)\n",
      " |-- SibSp: integer (nullable = true)\n",
      " |-- Parch: integer (nullable = true)\n",
      " |-- Ticket: string (nullable = true)\n",
      " |-- Fare: double (nullable = true)\n",
      " |-- Cabin: string (nullable = true)\n",
      " |-- Embarked: string (nullable = true)\n",
      "\n"
     ]
    }
   ],
   "source": [
    "# sp\n",
    "test_data_sp.printSchema()"
   ]
  },
  {
   "cell_type": "markdown",
   "id": "9adef713",
   "metadata": {
    "papermill": {
     "duration": 0.029984,
     "end_time": "2022-09-19T01:15:27.312480",
     "exception": false,
     "start_time": "2022-09-19T01:15:27.282496",
     "status": "completed"
    },
    "tags": []
   },
   "source": [
    "**Warning:** the age not have the correct type"
   ]
  },
  {
   "cell_type": "markdown",
   "id": "ce4fc027",
   "metadata": {
    "papermill": {
     "duration": 0.03039,
     "end_time": "2022-09-19T01:15:27.373399",
     "exception": false,
     "start_time": "2022-09-19T01:15:27.343009",
     "status": "completed"
    },
    "tags": []
   },
   "source": [
    "### 2.3. Observe full data"
   ]
  },
  {
   "cell_type": "code",
   "execution_count": 14,
   "id": "f7c83979",
   "metadata": {
    "execution": {
     "iopub.execute_input": "2022-09-19T01:15:27.438820Z",
     "iopub.status.busy": "2022-09-19T01:15:27.438347Z",
     "iopub.status.idle": "2022-09-19T01:15:27.470959Z",
     "shell.execute_reply": "2022-09-19T01:15:27.469642Z"
    },
    "papermill": {
     "duration": 0.069556,
     "end_time": "2022-09-19T01:15:27.473601",
     "exception": false,
     "start_time": "2022-09-19T01:15:27.404045",
     "status": "completed"
    },
    "tags": []
   },
   "outputs": [
    {
     "data": {
      "text/html": [
       "<div>\n",
       "<style scoped>\n",
       "    .dataframe tbody tr th:only-of-type {\n",
       "        vertical-align: middle;\n",
       "    }\n",
       "\n",
       "    .dataframe tbody tr th {\n",
       "        vertical-align: top;\n",
       "    }\n",
       "\n",
       "    .dataframe thead th {\n",
       "        text-align: right;\n",
       "    }\n",
       "</style>\n",
       "<table border=\"1\" class=\"dataframe\">\n",
       "  <thead>\n",
       "    <tr style=\"text-align: right;\">\n",
       "      <th></th>\n",
       "      <th>PassengerId</th>\n",
       "      <th>Pclass</th>\n",
       "      <th>Name</th>\n",
       "      <th>Sex</th>\n",
       "      <th>Age</th>\n",
       "      <th>SibSp</th>\n",
       "      <th>Parch</th>\n",
       "      <th>Ticket</th>\n",
       "      <th>Fare</th>\n",
       "      <th>Cabin</th>\n",
       "      <th>Embarked</th>\n",
       "    </tr>\n",
       "  </thead>\n",
       "  <tbody>\n",
       "    <tr>\n",
       "      <th>0</th>\n",
       "      <td>1</td>\n",
       "      <td>3</td>\n",
       "      <td>Braund, Mr. Owen Harris</td>\n",
       "      <td>male</td>\n",
       "      <td>22.0</td>\n",
       "      <td>1</td>\n",
       "      <td>0</td>\n",
       "      <td>A/5 21171</td>\n",
       "      <td>7.2500</td>\n",
       "      <td>NaN</td>\n",
       "      <td>S</td>\n",
       "    </tr>\n",
       "    <tr>\n",
       "      <th>1</th>\n",
       "      <td>2</td>\n",
       "      <td>1</td>\n",
       "      <td>Cumings, Mrs. John Bradley (Florence Briggs Th...</td>\n",
       "      <td>female</td>\n",
       "      <td>38.0</td>\n",
       "      <td>1</td>\n",
       "      <td>0</td>\n",
       "      <td>PC 17599</td>\n",
       "      <td>71.2833</td>\n",
       "      <td>C85</td>\n",
       "      <td>C</td>\n",
       "    </tr>\n",
       "    <tr>\n",
       "      <th>2</th>\n",
       "      <td>3</td>\n",
       "      <td>3</td>\n",
       "      <td>Heikkinen, Miss. Laina</td>\n",
       "      <td>female</td>\n",
       "      <td>26.0</td>\n",
       "      <td>0</td>\n",
       "      <td>0</td>\n",
       "      <td>STON/O2. 3101282</td>\n",
       "      <td>7.9250</td>\n",
       "      <td>NaN</td>\n",
       "      <td>S</td>\n",
       "    </tr>\n",
       "    <tr>\n",
       "      <th>3</th>\n",
       "      <td>4</td>\n",
       "      <td>1</td>\n",
       "      <td>Futrelle, Mrs. Jacques Heath (Lily May Peel)</td>\n",
       "      <td>female</td>\n",
       "      <td>35.0</td>\n",
       "      <td>1</td>\n",
       "      <td>0</td>\n",
       "      <td>113803</td>\n",
       "      <td>53.1000</td>\n",
       "      <td>C123</td>\n",
       "      <td>S</td>\n",
       "    </tr>\n",
       "    <tr>\n",
       "      <th>4</th>\n",
       "      <td>5</td>\n",
       "      <td>3</td>\n",
       "      <td>Allen, Mr. William Henry</td>\n",
       "      <td>male</td>\n",
       "      <td>35.0</td>\n",
       "      <td>0</td>\n",
       "      <td>0</td>\n",
       "      <td>373450</td>\n",
       "      <td>8.0500</td>\n",
       "      <td>NaN</td>\n",
       "      <td>S</td>\n",
       "    </tr>\n",
       "    <tr>\n",
       "      <th>...</th>\n",
       "      <td>...</td>\n",
       "      <td>...</td>\n",
       "      <td>...</td>\n",
       "      <td>...</td>\n",
       "      <td>...</td>\n",
       "      <td>...</td>\n",
       "      <td>...</td>\n",
       "      <td>...</td>\n",
       "      <td>...</td>\n",
       "      <td>...</td>\n",
       "      <td>...</td>\n",
       "    </tr>\n",
       "    <tr>\n",
       "      <th>413</th>\n",
       "      <td>1305</td>\n",
       "      <td>3</td>\n",
       "      <td>Spector, Mr. Woolf</td>\n",
       "      <td>male</td>\n",
       "      <td>NaN</td>\n",
       "      <td>0</td>\n",
       "      <td>0</td>\n",
       "      <td>A.5. 3236</td>\n",
       "      <td>8.0500</td>\n",
       "      <td>NaN</td>\n",
       "      <td>S</td>\n",
       "    </tr>\n",
       "    <tr>\n",
       "      <th>414</th>\n",
       "      <td>1306</td>\n",
       "      <td>1</td>\n",
       "      <td>Oliva y Ocana, Dona. Fermina</td>\n",
       "      <td>female</td>\n",
       "      <td>39.0</td>\n",
       "      <td>0</td>\n",
       "      <td>0</td>\n",
       "      <td>PC 17758</td>\n",
       "      <td>108.9000</td>\n",
       "      <td>C105</td>\n",
       "      <td>C</td>\n",
       "    </tr>\n",
       "    <tr>\n",
       "      <th>415</th>\n",
       "      <td>1307</td>\n",
       "      <td>3</td>\n",
       "      <td>Saether, Mr. Simon Sivertsen</td>\n",
       "      <td>male</td>\n",
       "      <td>38.5</td>\n",
       "      <td>0</td>\n",
       "      <td>0</td>\n",
       "      <td>SOTON/O.Q. 3101262</td>\n",
       "      <td>7.2500</td>\n",
       "      <td>NaN</td>\n",
       "      <td>S</td>\n",
       "    </tr>\n",
       "    <tr>\n",
       "      <th>416</th>\n",
       "      <td>1308</td>\n",
       "      <td>3</td>\n",
       "      <td>Ware, Mr. Frederick</td>\n",
       "      <td>male</td>\n",
       "      <td>NaN</td>\n",
       "      <td>0</td>\n",
       "      <td>0</td>\n",
       "      <td>359309</td>\n",
       "      <td>8.0500</td>\n",
       "      <td>NaN</td>\n",
       "      <td>S</td>\n",
       "    </tr>\n",
       "    <tr>\n",
       "      <th>417</th>\n",
       "      <td>1309</td>\n",
       "      <td>3</td>\n",
       "      <td>Peter, Master. Michael J</td>\n",
       "      <td>male</td>\n",
       "      <td>NaN</td>\n",
       "      <td>1</td>\n",
       "      <td>1</td>\n",
       "      <td>2668</td>\n",
       "      <td>22.3583</td>\n",
       "      <td>NaN</td>\n",
       "      <td>C</td>\n",
       "    </tr>\n",
       "  </tbody>\n",
       "</table>\n",
       "<p>1309 rows × 11 columns</p>\n",
       "</div>"
      ],
      "text/plain": [
       "     PassengerId  Pclass                                               Name  \\\n",
       "0              1       3                            Braund, Mr. Owen Harris   \n",
       "1              2       1  Cumings, Mrs. John Bradley (Florence Briggs Th...   \n",
       "2              3       3                             Heikkinen, Miss. Laina   \n",
       "3              4       1       Futrelle, Mrs. Jacques Heath (Lily May Peel)   \n",
       "4              5       3                           Allen, Mr. William Henry   \n",
       "..           ...     ...                                                ...   \n",
       "413         1305       3                                 Spector, Mr. Woolf   \n",
       "414         1306       1                       Oliva y Ocana, Dona. Fermina   \n",
       "415         1307       3                       Saether, Mr. Simon Sivertsen   \n",
       "416         1308       3                                Ware, Mr. Frederick   \n",
       "417         1309       3                           Peter, Master. Michael J   \n",
       "\n",
       "        Sex   Age  SibSp  Parch              Ticket      Fare Cabin Embarked  \n",
       "0      male  22.0      1      0           A/5 21171    7.2500   NaN        S  \n",
       "1    female  38.0      1      0            PC 17599   71.2833   C85        C  \n",
       "2    female  26.0      0      0    STON/O2. 3101282    7.9250   NaN        S  \n",
       "3    female  35.0      1      0              113803   53.1000  C123        S  \n",
       "4      male  35.0      0      0              373450    8.0500   NaN        S  \n",
       "..      ...   ...    ...    ...                 ...       ...   ...      ...  \n",
       "413    male   NaN      0      0           A.5. 3236    8.0500   NaN        S  \n",
       "414  female  39.0      0      0            PC 17758  108.9000  C105        C  \n",
       "415    male  38.5      0      0  SOTON/O.Q. 3101262    7.2500   NaN        S  \n",
       "416    male   NaN      0      0              359309    8.0500   NaN        S  \n",
       "417    male   NaN      1      1                2668   22.3583   NaN        C  \n",
       "\n",
       "[1309 rows x 11 columns]"
      ]
     },
     "execution_count": 14,
     "metadata": {},
     "output_type": "execute_result"
    }
   ],
   "source": [
    "#merge test and train pd\n",
    "merge_data = pd.concat([train_data.drop('Survived',axis=1), test_data])\n",
    "merge_data"
   ]
  },
  {
   "cell_type": "code",
   "execution_count": 15,
   "id": "913046e7",
   "metadata": {
    "execution": {
     "iopub.execute_input": "2022-09-19T01:15:27.539068Z",
     "iopub.status.busy": "2022-09-19T01:15:27.538647Z",
     "iopub.status.idle": "2022-09-19T01:15:28.161530Z",
     "shell.execute_reply": "2022-09-19T01:15:28.159059Z"
    },
    "papermill": {
     "duration": 0.659295,
     "end_time": "2022-09-19T01:15:28.165333",
     "exception": false,
     "start_time": "2022-09-19T01:15:27.506038",
     "status": "completed"
    },
    "tags": []
   },
   "outputs": [
    {
     "name": "stdout",
     "output_type": "stream",
     "text": [
      "+-----------+------+--------------------+------+----+-----+-----+----------------+-------+-----+--------+\n",
      "|PassengerId|Pclass|                Name|   Sex| Age|SibSp|Parch|          Ticket|   Fare|Cabin|Embarked|\n",
      "+-----------+------+--------------------+------+----+-----+-----+----------------+-------+-----+--------+\n",
      "|          1|     3|Braund, Mr. Owen ...|  male|22.0|    1|    0|       A/5 21171|   7.25| null|       S|\n",
      "|          2|     1|Cumings, Mrs. Joh...|female|38.0|    1|    0|        PC 17599|71.2833|  C85|       C|\n",
      "|          3|     3|Heikkinen, Miss. ...|female|26.0|    0|    0|STON/O2. 3101282|  7.925| null|       S|\n",
      "|          4|     1|Futrelle, Mrs. Ja...|female|35.0|    1|    0|          113803|   53.1| C123|       S|\n",
      "|          5|     3|Allen, Mr. Willia...|  male|35.0|    0|    0|          373450|   8.05| null|       S|\n",
      "|          6|     3|    Moran, Mr. James|  male|null|    0|    0|          330877| 8.4583| null|       Q|\n",
      "|          7|     1|McCarthy, Mr. Tim...|  male|54.0|    0|    0|           17463|51.8625|  E46|       S|\n",
      "|          8|     3|Palsson, Master. ...|  male| 2.0|    3|    1|          349909| 21.075| null|       S|\n",
      "|          9|     3|Johnson, Mrs. Osc...|female|27.0|    0|    2|          347742|11.1333| null|       S|\n",
      "|         10|     2|Nasser, Mrs. Nich...|female|14.0|    1|    0|          237736|30.0708| null|       C|\n",
      "|         11|     3|Sandstrom, Miss. ...|female| 4.0|    1|    1|         PP 9549|   16.7|   G6|       S|\n",
      "|         12|     1|Bonnell, Miss. El...|female|58.0|    0|    0|          113783|  26.55| C103|       S|\n",
      "|         13|     3|Saundercock, Mr. ...|  male|20.0|    0|    0|       A/5. 2151|   8.05| null|       S|\n",
      "|         14|     3|Andersson, Mr. An...|  male|39.0|    1|    5|          347082| 31.275| null|       S|\n",
      "|         15|     3|Vestrom, Miss. Hu...|female|14.0|    0|    0|          350406| 7.8542| null|       S|\n",
      "|         16|     2|Hewlett, Mrs. (Ma...|female|55.0|    0|    0|          248706|   16.0| null|       S|\n",
      "|         17|     3|Rice, Master. Eugene|  male| 2.0|    4|    1|          382652| 29.125| null|       Q|\n",
      "|         18|     2|Williams, Mr. Cha...|  male|null|    0|    0|          244373|   13.0| null|       S|\n",
      "|         19|     3|Vander Planke, Mr...|female|31.0|    1|    0|          345763|   18.0| null|       S|\n",
      "|         20|     3|Masselmani, Mrs. ...|female|null|    0|    0|            2649|  7.225| null|       C|\n",
      "+-----------+------+--------------------+------+----+-----+-----+----------------+-------+-----+--------+\n",
      "only showing top 20 rows\n",
      "\n"
     ]
    }
   ],
   "source": [
    "#merge test and train sp\n",
    "merge_data_sp = train_data_sp.drop(\"Survived\").unionByName(test_data_sp)\n",
    "merge_data_sp.show()"
   ]
  },
  {
   "cell_type": "markdown",
   "id": "a5214302",
   "metadata": {
    "papermill": {
     "duration": 0.035297,
     "end_time": "2022-09-19T01:15:28.247694",
     "exception": false,
     "start_time": "2022-09-19T01:15:28.212397",
     "status": "completed"
    },
    "tags": []
   },
   "source": [
    "### 2.4. Number of observations and missing values"
   ]
  },
  {
   "cell_type": "code",
   "execution_count": 16,
   "id": "2718c701",
   "metadata": {
    "execution": {
     "iopub.execute_input": "2022-09-19T01:15:28.316479Z",
     "iopub.status.busy": "2022-09-19T01:15:28.316066Z",
     "iopub.status.idle": "2022-09-19T01:15:28.321878Z",
     "shell.execute_reply": "2022-09-19T01:15:28.321073Z"
    },
    "papermill": {
     "duration": 0.043057,
     "end_time": "2022-09-19T01:15:28.323801",
     "exception": false,
     "start_time": "2022-09-19T01:15:28.280744",
     "status": "completed"
    },
    "tags": []
   },
   "outputs": [
    {
     "data": {
      "text/plain": [
       "(1309, 11)"
      ]
     },
     "execution_count": 16,
     "metadata": {},
     "output_type": "execute_result"
    }
   ],
   "source": [
    "# Dimension pd\n",
    "merge_data.shape"
   ]
  },
  {
   "cell_type": "code",
   "execution_count": 17,
   "id": "e96e4319",
   "metadata": {
    "execution": {
     "iopub.execute_input": "2022-09-19T01:15:28.392550Z",
     "iopub.status.busy": "2022-09-19T01:15:28.391424Z",
     "iopub.status.idle": "2022-09-19T01:15:29.083239Z",
     "shell.execute_reply": "2022-09-19T01:15:29.082186Z"
    },
    "papermill": {
     "duration": 0.729668,
     "end_time": "2022-09-19T01:15:29.085444",
     "exception": false,
     "start_time": "2022-09-19T01:15:28.355776",
     "status": "completed"
    },
    "tags": []
   },
   "outputs": [
    {
     "data": {
      "text/plain": [
       "(1309, 11)"
      ]
     },
     "execution_count": 17,
     "metadata": {},
     "output_type": "execute_result"
    }
   ],
   "source": [
    "# Dimension sp\n",
    "((merge_data_sp.count(), len(merge_data_sp.columns)))"
   ]
  },
  {
   "cell_type": "code",
   "execution_count": 18,
   "id": "290f2e7c",
   "metadata": {
    "execution": {
     "iopub.execute_input": "2022-09-19T01:15:29.150743Z",
     "iopub.status.busy": "2022-09-19T01:15:29.150031Z",
     "iopub.status.idle": "2022-09-19T01:15:29.163711Z",
     "shell.execute_reply": "2022-09-19T01:15:29.162601Z"
    },
    "papermill": {
     "duration": 0.048785,
     "end_time": "2022-09-19T01:15:29.165982",
     "exception": false,
     "start_time": "2022-09-19T01:15:29.117197",
     "status": "completed"
    },
    "tags": []
   },
   "outputs": [
    {
     "data": {
      "text/plain": [
       "0"
      ]
     },
     "execution_count": 18,
     "metadata": {},
     "output_type": "execute_result"
    }
   ],
   "source": [
    "# Duplicate data pd\n",
    "merge_data.duplicated().sum()"
   ]
  },
  {
   "cell_type": "code",
   "execution_count": 19,
   "id": "72358e13",
   "metadata": {
    "execution": {
     "iopub.execute_input": "2022-09-19T01:15:29.231393Z",
     "iopub.status.busy": "2022-09-19T01:15:29.230690Z",
     "iopub.status.idle": "2022-09-19T01:15:30.665818Z",
     "shell.execute_reply": "2022-09-19T01:15:30.664627Z"
    },
    "papermill": {
     "duration": 1.471693,
     "end_time": "2022-09-19T01:15:30.668682",
     "exception": false,
     "start_time": "2022-09-19T01:15:29.196989",
     "status": "completed"
    },
    "tags": []
   },
   "outputs": [
    {
     "data": {
      "text/plain": [
       "[Row(sum(PassengerId)=None, sum(Pclass)=None, sum(Age)=None, sum(SibSp)=None, sum(Parch)=None, sum(Fare)=None, sum(count)=None)]"
      ]
     },
     "execution_count": 19,
     "metadata": {},
     "output_type": "execute_result"
    }
   ],
   "source": [
    "# Duplicate data sp\n",
    "merge_data_sp.groupBy(merge_data_sp.columns).count().filter(col(\"count\")>1).groupBy().sum().collect()"
   ]
  },
  {
   "cell_type": "code",
   "execution_count": 20,
   "id": "b08050c8",
   "metadata": {
    "execution": {
     "iopub.execute_input": "2022-09-19T01:15:30.734422Z",
     "iopub.status.busy": "2022-09-19T01:15:30.733861Z",
     "iopub.status.idle": "2022-09-19T01:15:30.743886Z",
     "shell.execute_reply": "2022-09-19T01:15:30.742734Z"
    },
    "papermill": {
     "duration": 0.045276,
     "end_time": "2022-09-19T01:15:30.746245",
     "exception": false,
     "start_time": "2022-09-19T01:15:30.700969",
     "status": "completed"
    },
    "tags": []
   },
   "outputs": [
    {
     "data": {
      "text/plain": [
       "PassengerId      0\n",
       "Survived         0\n",
       "Pclass           0\n",
       "Name             0\n",
       "Sex              0\n",
       "SibSp            0\n",
       "Parch            0\n",
       "Ticket           0\n",
       "Fare             0\n",
       "Embarked         2\n",
       "Age            177\n",
       "Cabin          687\n",
       "dtype: int64"
      ]
     },
     "execution_count": 20,
     "metadata": {},
     "output_type": "execute_result"
    }
   ],
   "source": [
    "# missing datatrain pd\n",
    "train_data.isna().sum().sort_values()"
   ]
  },
  {
   "cell_type": "code",
   "execution_count": 21,
   "id": "13646ce1",
   "metadata": {
    "execution": {
     "iopub.execute_input": "2022-09-19T01:15:30.812314Z",
     "iopub.status.busy": "2022-09-19T01:15:30.811439Z",
     "iopub.status.idle": "2022-09-19T01:15:30.824635Z",
     "shell.execute_reply": "2022-09-19T01:15:30.823649Z"
    },
    "papermill": {
     "duration": 0.049443,
     "end_time": "2022-09-19T01:15:30.827086",
     "exception": false,
     "start_time": "2022-09-19T01:15:30.777643",
     "status": "completed"
    },
    "tags": []
   },
   "outputs": [
    {
     "data": {
      "text/plain": [
       "PassengerId       0\n",
       "Pclass            0\n",
       "Name              0\n",
       "Sex               0\n",
       "SibSp             0\n",
       "Parch             0\n",
       "Ticket            0\n",
       "Fare              1\n",
       "Embarked          2\n",
       "Age             263\n",
       "Cabin          1014\n",
       "dtype: int64"
      ]
     },
     "execution_count": 21,
     "metadata": {},
     "output_type": "execute_result"
    }
   ],
   "source": [
    "merge_data.isna().sum().sort_values()"
   ]
  },
  {
   "cell_type": "code",
   "execution_count": 22,
   "id": "673059ef",
   "metadata": {
    "execution": {
     "iopub.execute_input": "2022-09-19T01:15:30.894773Z",
     "iopub.status.busy": "2022-09-19T01:15:30.893922Z",
     "iopub.status.idle": "2022-09-19T01:15:31.656674Z",
     "shell.execute_reply": "2022-09-19T01:15:31.655468Z"
    },
    "papermill": {
     "duration": 0.800842,
     "end_time": "2022-09-19T01:15:31.660601",
     "exception": false,
     "start_time": "2022-09-19T01:15:30.859759",
     "status": "completed"
    },
    "tags": []
   },
   "outputs": [
    {
     "name": "stdout",
     "output_type": "stream",
     "text": [
      "+-----------+--------+------+----+---+---+-----+-----+------+----+-----+--------+\n",
      "|PassengerId|Survived|Pclass|Name|Sex|Age|SibSp|Parch|Ticket|Fare|Cabin|Embarked|\n",
      "+-----------+--------+------+----+---+---+-----+-----+------+----+-----+--------+\n",
      "|          0|       0|     0|   0|  0|177|    0|    0|     0|   0|  687|       2|\n",
      "+-----------+--------+------+----+---+---+-----+-----+------+----+-----+--------+\n",
      "\n"
     ]
    }
   ],
   "source": [
    "# missing datatrain sp\n",
    "train_data_sp.select([count(when(isnan(c) | col(c).isNull(), c)).alias(c) for c in train_data_sp.columns]\n",
    "   ).show()"
   ]
  },
  {
   "cell_type": "code",
   "execution_count": 23,
   "id": "5da30326",
   "metadata": {
    "execution": {
     "iopub.execute_input": "2022-09-19T01:15:31.762440Z",
     "iopub.status.busy": "2022-09-19T01:15:31.761885Z",
     "iopub.status.idle": "2022-09-19T01:15:32.319221Z",
     "shell.execute_reply": "2022-09-19T01:15:32.317970Z"
    },
    "papermill": {
     "duration": 0.610652,
     "end_time": "2022-09-19T01:15:32.322821",
     "exception": false,
     "start_time": "2022-09-19T01:15:31.712169",
     "status": "completed"
    },
    "tags": []
   },
   "outputs": [
    {
     "name": "stdout",
     "output_type": "stream",
     "text": [
      "+-----------+------+----+---+---+-----+-----+------+----+-----+--------+\n",
      "|PassengerId|Pclass|Name|Sex|Age|SibSp|Parch|Ticket|Fare|Cabin|Embarked|\n",
      "+-----------+------+----+---+---+-----+-----+------+----+-----+--------+\n",
      "|          0|     0|   0|  0|263|    0|    0|     0|   1| 1014|       2|\n",
      "+-----------+------+----+---+---+-----+-----+------+----+-----+--------+\n",
      "\n"
     ]
    }
   ],
   "source": [
    "merge_data_sp.select([count(when(isnan(c) | col(c).isNull(), c)).alias(c) for c in merge_data_sp.columns]).show()"
   ]
  },
  {
   "cell_type": "markdown",
   "id": "114e2b29",
   "metadata": {
    "papermill": {
     "duration": 0.038103,
     "end_time": "2022-09-19T01:15:32.411285",
     "exception": false,
     "start_time": "2022-09-19T01:15:32.373182",
     "status": "completed"
    },
    "tags": []
   },
   "source": [
    "**Warning:**"
   ]
  },
  {
   "cell_type": "code",
   "execution_count": 24,
   "id": "ed6cbbcb",
   "metadata": {
    "execution": {
     "iopub.execute_input": "2022-09-19T01:15:32.478462Z",
     "iopub.status.busy": "2022-09-19T01:15:32.477812Z",
     "iopub.status.idle": "2022-09-19T01:15:32.484738Z",
     "shell.execute_reply": "2022-09-19T01:15:32.483669Z"
    },
    "papermill": {
     "duration": 0.045551,
     "end_time": "2022-09-19T01:15:32.489992",
     "exception": false,
     "start_time": "2022-09-19T01:15:32.444441",
     "status": "completed"
    },
    "tags": []
   },
   "outputs": [
    {
     "name": "stdout",
     "output_type": "stream",
     "text": [
      "\"Cabin\" has many values null, is not a good predictor. Maybe this can be not into the model  97.594\n"
     ]
    }
   ],
   "source": [
    " print('\"Cabin\" has many values null, is not a good predictor. Maybe this can be not into the model ',round(1014/1039*100,3))"
   ]
  },
  {
   "cell_type": "markdown",
   "id": "2cb3329c",
   "metadata": {
    "papermill": {
     "duration": 0.031482,
     "end_time": "2022-09-19T01:15:32.563334",
     "exception": false,
     "start_time": "2022-09-19T01:15:32.531852",
     "status": "completed"
    },
    "tags": []
   },
   "source": [
    "# 3. Data cleaning"
   ]
  },
  {
   "cell_type": "markdown",
   "id": "f56dea43",
   "metadata": {
    "papermill": {
     "duration": 0.031419,
     "end_time": "2022-09-19T01:15:32.634469",
     "exception": false,
     "start_time": "2022-09-19T01:15:32.603050",
     "status": "completed"
    },
    "tags": []
   },
   "source": [
    "### 3.1. Analyze atipical values"
   ]
  },
  {
   "cell_type": "code",
   "execution_count": 25,
   "id": "2d5fe5ee",
   "metadata": {
    "execution": {
     "iopub.execute_input": "2022-09-19T01:15:32.700617Z",
     "iopub.status.busy": "2022-09-19T01:15:32.699883Z",
     "iopub.status.idle": "2022-09-19T01:15:32.730969Z",
     "shell.execute_reply": "2022-09-19T01:15:32.729981Z"
    },
    "papermill": {
     "duration": 0.066671,
     "end_time": "2022-09-19T01:15:32.733233",
     "exception": false,
     "start_time": "2022-09-19T01:15:32.666562",
     "status": "completed"
    },
    "tags": []
   },
   "outputs": [
    {
     "data": {
      "text/html": [
       "<div>\n",
       "<style scoped>\n",
       "    .dataframe tbody tr th:only-of-type {\n",
       "        vertical-align: middle;\n",
       "    }\n",
       "\n",
       "    .dataframe tbody tr th {\n",
       "        vertical-align: top;\n",
       "    }\n",
       "\n",
       "    .dataframe thead th {\n",
       "        text-align: right;\n",
       "    }\n",
       "</style>\n",
       "<table border=\"1\" class=\"dataframe\">\n",
       "  <thead>\n",
       "    <tr style=\"text-align: right;\">\n",
       "      <th></th>\n",
       "      <th>PassengerId</th>\n",
       "      <th>Pclass</th>\n",
       "      <th>Age</th>\n",
       "      <th>SibSp</th>\n",
       "      <th>Parch</th>\n",
       "      <th>Fare</th>\n",
       "    </tr>\n",
       "  </thead>\n",
       "  <tbody>\n",
       "    <tr>\n",
       "      <th>count</th>\n",
       "      <td>1309.000000</td>\n",
       "      <td>1309.000000</td>\n",
       "      <td>1046.000000</td>\n",
       "      <td>1309.000000</td>\n",
       "      <td>1309.000000</td>\n",
       "      <td>1308.000000</td>\n",
       "    </tr>\n",
       "    <tr>\n",
       "      <th>mean</th>\n",
       "      <td>655.000000</td>\n",
       "      <td>2.294882</td>\n",
       "      <td>29.881138</td>\n",
       "      <td>0.498854</td>\n",
       "      <td>0.385027</td>\n",
       "      <td>33.295479</td>\n",
       "    </tr>\n",
       "    <tr>\n",
       "      <th>std</th>\n",
       "      <td>378.020061</td>\n",
       "      <td>0.837836</td>\n",
       "      <td>14.413493</td>\n",
       "      <td>1.041658</td>\n",
       "      <td>0.865560</td>\n",
       "      <td>51.758668</td>\n",
       "    </tr>\n",
       "    <tr>\n",
       "      <th>min</th>\n",
       "      <td>1.000000</td>\n",
       "      <td>1.000000</td>\n",
       "      <td>0.170000</td>\n",
       "      <td>0.000000</td>\n",
       "      <td>0.000000</td>\n",
       "      <td>0.000000</td>\n",
       "    </tr>\n",
       "    <tr>\n",
       "      <th>25%</th>\n",
       "      <td>328.000000</td>\n",
       "      <td>2.000000</td>\n",
       "      <td>21.000000</td>\n",
       "      <td>0.000000</td>\n",
       "      <td>0.000000</td>\n",
       "      <td>7.895800</td>\n",
       "    </tr>\n",
       "    <tr>\n",
       "      <th>50%</th>\n",
       "      <td>655.000000</td>\n",
       "      <td>3.000000</td>\n",
       "      <td>28.000000</td>\n",
       "      <td>0.000000</td>\n",
       "      <td>0.000000</td>\n",
       "      <td>14.454200</td>\n",
       "    </tr>\n",
       "    <tr>\n",
       "      <th>75%</th>\n",
       "      <td>982.000000</td>\n",
       "      <td>3.000000</td>\n",
       "      <td>39.000000</td>\n",
       "      <td>1.000000</td>\n",
       "      <td>0.000000</td>\n",
       "      <td>31.275000</td>\n",
       "    </tr>\n",
       "    <tr>\n",
       "      <th>max</th>\n",
       "      <td>1309.000000</td>\n",
       "      <td>3.000000</td>\n",
       "      <td>80.000000</td>\n",
       "      <td>8.000000</td>\n",
       "      <td>9.000000</td>\n",
       "      <td>512.329200</td>\n",
       "    </tr>\n",
       "  </tbody>\n",
       "</table>\n",
       "</div>"
      ],
      "text/plain": [
       "       PassengerId       Pclass          Age        SibSp        Parch  \\\n",
       "count  1309.000000  1309.000000  1046.000000  1309.000000  1309.000000   \n",
       "mean    655.000000     2.294882    29.881138     0.498854     0.385027   \n",
       "std     378.020061     0.837836    14.413493     1.041658     0.865560   \n",
       "min       1.000000     1.000000     0.170000     0.000000     0.000000   \n",
       "25%     328.000000     2.000000    21.000000     0.000000     0.000000   \n",
       "50%     655.000000     3.000000    28.000000     0.000000     0.000000   \n",
       "75%     982.000000     3.000000    39.000000     1.000000     0.000000   \n",
       "max    1309.000000     3.000000    80.000000     8.000000     9.000000   \n",
       "\n",
       "              Fare  \n",
       "count  1308.000000  \n",
       "mean     33.295479  \n",
       "std      51.758668  \n",
       "min       0.000000  \n",
       "25%       7.895800  \n",
       "50%      14.454200  \n",
       "75%      31.275000  \n",
       "max     512.329200  "
      ]
     },
     "execution_count": 25,
     "metadata": {},
     "output_type": "execute_result"
    }
   ],
   "source": [
    "#pd\n",
    "merge_data.describe()"
   ]
  },
  {
   "cell_type": "code",
   "execution_count": 26,
   "id": "1c82c7f0",
   "metadata": {
    "execution": {
     "iopub.execute_input": "2022-09-19T01:15:32.800250Z",
     "iopub.status.busy": "2022-09-19T01:15:32.799809Z",
     "iopub.status.idle": "2022-09-19T01:15:35.189952Z",
     "shell.execute_reply": "2022-09-19T01:15:35.188610Z"
    },
    "papermill": {
     "duration": 2.430138,
     "end_time": "2022-09-19T01:15:35.196275",
     "exception": false,
     "start_time": "2022-09-19T01:15:32.766137",
     "status": "completed"
    },
    "tags": []
   },
   "outputs": [
    {
     "name": "stderr",
     "output_type": "stream",
     "text": [
      "[Stage 21:>                                                         (0 + 2) / 2]\r"
     ]
    },
    {
     "name": "stdout",
     "output_type": "stream",
     "text": [
      "+-------+-----------------+------------------+--------------------+------+------------------+------------------+------------------+------------------+------------------+-----+--------+\n",
      "|summary|      PassengerId|            Pclass|                Name|   Sex|               Age|             SibSp|             Parch|            Ticket|              Fare|Cabin|Embarked|\n",
      "+-------+-----------------+------------------+--------------------+------+------------------+------------------+------------------+------------------+------------------+-----+--------+\n",
      "|  count|             1309|              1309|                1309|  1309|              1046|              1309|              1309|              1309|              1308|  295|    1307|\n",
      "|   mean|            655.0| 2.294881588999236|                null|  null|29.881137667304014|0.4988540870893812|0.3850267379679144| 249039.1368861024| 33.29547928134553| null|    null|\n",
      "| stddev|378.0200611960517|0.8378360189701275|                null|  null| 14.41349321127132|1.0416583905961019|0.8655602753495152|442685.31767656433|51.758668239174106| null|    null|\n",
      "|    min|                1|                 1|\"Andersson, Mr. A...|female|              0.17|                 0|                 0|            110152|               0.0|  A10|       C|\n",
      "|    25%|              328|                 2|                null|  null|              21.0|                 0|                 0|           19950.0|            7.8958| null|    null|\n",
      "|    50%|              655|                 3|                null|  null|              28.0|                 0|                 0|          234604.0|           14.4542| null|    null|\n",
      "|    75%|              982|                 3|                null|  null|              39.0|                 1|                 0|          347468.0|            31.275| null|    null|\n",
      "|    max|             1309|                 3|van Melkebeke, Mr...|  male|              80.0|                 8|                 9|         WE/P 5735|          512.3292|    T|       S|\n",
      "+-------+-----------------+------------------+--------------------+------+------------------+------------------+------------------+------------------+------------------+-----+--------+\n",
      "\n"
     ]
    },
    {
     "name": "stderr",
     "output_type": "stream",
     "text": [
      "                                                                                \r"
     ]
    }
   ],
   "source": [
    "#sp\n",
    "merge_data_sp.summary().show()"
   ]
  },
  {
   "cell_type": "markdown",
   "id": "c5fd03a8",
   "metadata": {
    "execution": {
     "iopub.execute_input": "2022-08-26T00:23:56.581252Z",
     "iopub.status.busy": "2022-08-26T00:23:56.580880Z",
     "iopub.status.idle": "2022-08-26T00:23:57.499533Z",
     "shell.execute_reply": "2022-08-26T00:23:57.498384Z",
     "shell.execute_reply.started": "2022-08-26T00:23:56.581222Z"
    },
    "papermill": {
     "duration": 0.050534,
     "end_time": "2022-09-19T01:15:35.294705",
     "exception": false,
     "start_time": "2022-09-19T01:15:35.244171",
     "status": "completed"
    },
    "tags": []
   },
   "source": [
    "**Warning:** The minimun age is an atipic data, we going tho see the top 10 in detail "
   ]
  },
  {
   "cell_type": "code",
   "execution_count": 27,
   "id": "a9a8490a",
   "metadata": {
    "execution": {
     "iopub.execute_input": "2022-09-19T01:15:35.380689Z",
     "iopub.status.busy": "2022-09-19T01:15:35.380259Z",
     "iopub.status.idle": "2022-09-19T01:15:35.403491Z",
     "shell.execute_reply": "2022-09-19T01:15:35.402337Z"
    },
    "papermill": {
     "duration": 0.061113,
     "end_time": "2022-09-19T01:15:35.405977",
     "exception": false,
     "start_time": "2022-09-19T01:15:35.344864",
     "status": "completed"
    },
    "tags": []
   },
   "outputs": [
    {
     "data": {
      "text/html": [
       "<div>\n",
       "<style scoped>\n",
       "    .dataframe tbody tr th:only-of-type {\n",
       "        vertical-align: middle;\n",
       "    }\n",
       "\n",
       "    .dataframe tbody tr th {\n",
       "        vertical-align: top;\n",
       "    }\n",
       "\n",
       "    .dataframe thead th {\n",
       "        text-align: right;\n",
       "    }\n",
       "</style>\n",
       "<table border=\"1\" class=\"dataframe\">\n",
       "  <thead>\n",
       "    <tr style=\"text-align: right;\">\n",
       "      <th></th>\n",
       "      <th>PassengerId</th>\n",
       "      <th>Pclass</th>\n",
       "      <th>Name</th>\n",
       "      <th>Sex</th>\n",
       "      <th>Age</th>\n",
       "      <th>SibSp</th>\n",
       "      <th>Parch</th>\n",
       "      <th>Ticket</th>\n",
       "      <th>Fare</th>\n",
       "      <th>Cabin</th>\n",
       "      <th>Embarked</th>\n",
       "    </tr>\n",
       "  </thead>\n",
       "  <tbody>\n",
       "    <tr>\n",
       "      <th>354</th>\n",
       "      <td>1246</td>\n",
       "      <td>3</td>\n",
       "      <td>Dean, Miss. Elizabeth Gladys Millvina\"\"</td>\n",
       "      <td>female</td>\n",
       "      <td>0.17</td>\n",
       "      <td>1</td>\n",
       "      <td>2</td>\n",
       "      <td>C.A. 2315</td>\n",
       "      <td>20.5750</td>\n",
       "      <td>NaN</td>\n",
       "      <td>S</td>\n",
       "    </tr>\n",
       "    <tr>\n",
       "      <th>201</th>\n",
       "      <td>1093</td>\n",
       "      <td>3</td>\n",
       "      <td>Danbom, Master. Gilbert Sigvard Emanuel</td>\n",
       "      <td>male</td>\n",
       "      <td>0.33</td>\n",
       "      <td>0</td>\n",
       "      <td>2</td>\n",
       "      <td>347080</td>\n",
       "      <td>14.4000</td>\n",
       "      <td>NaN</td>\n",
       "      <td>S</td>\n",
       "    </tr>\n",
       "    <tr>\n",
       "      <th>803</th>\n",
       "      <td>804</td>\n",
       "      <td>3</td>\n",
       "      <td>Thomas, Master. Assad Alexander</td>\n",
       "      <td>male</td>\n",
       "      <td>0.42</td>\n",
       "      <td>0</td>\n",
       "      <td>1</td>\n",
       "      <td>2625</td>\n",
       "      <td>8.5167</td>\n",
       "      <td>NaN</td>\n",
       "      <td>C</td>\n",
       "    </tr>\n",
       "    <tr>\n",
       "      <th>755</th>\n",
       "      <td>756</td>\n",
       "      <td>2</td>\n",
       "      <td>Hamalainen, Master. Viljo</td>\n",
       "      <td>male</td>\n",
       "      <td>0.67</td>\n",
       "      <td>1</td>\n",
       "      <td>1</td>\n",
       "      <td>250649</td>\n",
       "      <td>14.5000</td>\n",
       "      <td>NaN</td>\n",
       "      <td>S</td>\n",
       "    </tr>\n",
       "    <tr>\n",
       "      <th>469</th>\n",
       "      <td>470</td>\n",
       "      <td>3</td>\n",
       "      <td>Baclini, Miss. Helene Barbara</td>\n",
       "      <td>female</td>\n",
       "      <td>0.75</td>\n",
       "      <td>2</td>\n",
       "      <td>1</td>\n",
       "      <td>2666</td>\n",
       "      <td>19.2583</td>\n",
       "      <td>NaN</td>\n",
       "      <td>C</td>\n",
       "    </tr>\n",
       "    <tr>\n",
       "      <th>644</th>\n",
       "      <td>645</td>\n",
       "      <td>3</td>\n",
       "      <td>Baclini, Miss. Eugenie</td>\n",
       "      <td>female</td>\n",
       "      <td>0.75</td>\n",
       "      <td>2</td>\n",
       "      <td>1</td>\n",
       "      <td>2666</td>\n",
       "      <td>19.2583</td>\n",
       "      <td>NaN</td>\n",
       "      <td>C</td>\n",
       "    </tr>\n",
       "    <tr>\n",
       "      <th>281</th>\n",
       "      <td>1173</td>\n",
       "      <td>3</td>\n",
       "      <td>Peacock, Master. Alfred Edward</td>\n",
       "      <td>male</td>\n",
       "      <td>0.75</td>\n",
       "      <td>1</td>\n",
       "      <td>1</td>\n",
       "      <td>SOTON/O.Q. 3101315</td>\n",
       "      <td>13.7750</td>\n",
       "      <td>NaN</td>\n",
       "      <td>S</td>\n",
       "    </tr>\n",
       "    <tr>\n",
       "      <th>78</th>\n",
       "      <td>79</td>\n",
       "      <td>2</td>\n",
       "      <td>Caldwell, Master. Alden Gates</td>\n",
       "      <td>male</td>\n",
       "      <td>0.83</td>\n",
       "      <td>0</td>\n",
       "      <td>2</td>\n",
       "      <td>248738</td>\n",
       "      <td>29.0000</td>\n",
       "      <td>NaN</td>\n",
       "      <td>S</td>\n",
       "    </tr>\n",
       "    <tr>\n",
       "      <th>831</th>\n",
       "      <td>832</td>\n",
       "      <td>2</td>\n",
       "      <td>Richards, Master. George Sibley</td>\n",
       "      <td>male</td>\n",
       "      <td>0.83</td>\n",
       "      <td>1</td>\n",
       "      <td>1</td>\n",
       "      <td>29106</td>\n",
       "      <td>18.7500</td>\n",
       "      <td>NaN</td>\n",
       "      <td>S</td>\n",
       "    </tr>\n",
       "    <tr>\n",
       "      <th>307</th>\n",
       "      <td>1199</td>\n",
       "      <td>3</td>\n",
       "      <td>Aks, Master. Philip Frank</td>\n",
       "      <td>male</td>\n",
       "      <td>0.83</td>\n",
       "      <td>0</td>\n",
       "      <td>1</td>\n",
       "      <td>392091</td>\n",
       "      <td>9.3500</td>\n",
       "      <td>NaN</td>\n",
       "      <td>S</td>\n",
       "    </tr>\n",
       "  </tbody>\n",
       "</table>\n",
       "</div>"
      ],
      "text/plain": [
       "     PassengerId  Pclass                                     Name     Sex  \\\n",
       "354         1246       3  Dean, Miss. Elizabeth Gladys Millvina\"\"  female   \n",
       "201         1093       3  Danbom, Master. Gilbert Sigvard Emanuel    male   \n",
       "803          804       3          Thomas, Master. Assad Alexander    male   \n",
       "755          756       2                Hamalainen, Master. Viljo    male   \n",
       "469          470       3            Baclini, Miss. Helene Barbara  female   \n",
       "644          645       3                   Baclini, Miss. Eugenie  female   \n",
       "281         1173       3           Peacock, Master. Alfred Edward    male   \n",
       "78            79       2            Caldwell, Master. Alden Gates    male   \n",
       "831          832       2          Richards, Master. George Sibley    male   \n",
       "307         1199       3                Aks, Master. Philip Frank    male   \n",
       "\n",
       "      Age  SibSp  Parch              Ticket     Fare Cabin Embarked  \n",
       "354  0.17      1      2           C.A. 2315  20.5750   NaN        S  \n",
       "201  0.33      0      2              347080  14.4000   NaN        S  \n",
       "803  0.42      0      1                2625   8.5167   NaN        C  \n",
       "755  0.67      1      1              250649  14.5000   NaN        S  \n",
       "469  0.75      2      1                2666  19.2583   NaN        C  \n",
       "644  0.75      2      1                2666  19.2583   NaN        C  \n",
       "281  0.75      1      1  SOTON/O.Q. 3101315  13.7750   NaN        S  \n",
       "78   0.83      0      2              248738  29.0000   NaN        S  \n",
       "831  0.83      1      1               29106  18.7500   NaN        S  \n",
       "307  0.83      0      1              392091   9.3500   NaN        S  "
      ]
     },
     "execution_count": 27,
     "metadata": {},
     "output_type": "execute_result"
    }
   ],
   "source": [
    "#pd\n",
    "merge_data.nsmallest(10, ['Age'])"
   ]
  },
  {
   "cell_type": "code",
   "execution_count": 28,
   "id": "b8e412b0",
   "metadata": {
    "execution": {
     "iopub.execute_input": "2022-09-19T01:15:35.474740Z",
     "iopub.status.busy": "2022-09-19T01:15:35.474307Z",
     "iopub.status.idle": "2022-09-19T01:15:35.884953Z",
     "shell.execute_reply": "2022-09-19T01:15:35.883781Z"
    },
    "papermill": {
     "duration": 0.448772,
     "end_time": "2022-09-19T01:15:35.888444",
     "exception": false,
     "start_time": "2022-09-19T01:15:35.439672",
     "status": "completed"
    },
    "tags": []
   },
   "outputs": [
    {
     "name": "stdout",
     "output_type": "stream",
     "text": [
      "+-----------+------+--------------------+------+----+-----+-----+------------------+-------+-----+--------+\n",
      "|PassengerId|Pclass|                Name|   Sex| Age|SibSp|Parch|            Ticket|   Fare|Cabin|Embarked|\n",
      "+-----------+------+--------------------+------+----+-----+-----+------------------+-------+-----+--------+\n",
      "|       1246|     3|Dean, Miss. Eliza...|female|0.17|    1|    2|         C.A. 2315| 20.575| null|       S|\n",
      "|       1093|     3|Danbom, Master. G...|  male|0.33|    0|    2|            347080|   14.4| null|       S|\n",
      "|        804|     3|Thomas, Master. A...|  male|0.42|    0|    1|              2625| 8.5167| null|       C|\n",
      "|        756|     2|Hamalainen, Maste...|  male|0.67|    1|    1|            250649|   14.5| null|       S|\n",
      "|        645|     3|Baclini, Miss. Eu...|female|0.75|    2|    1|              2666|19.2583| null|       C|\n",
      "|       1173|     3|Peacock, Master. ...|  male|0.75|    1|    1|SOTON/O.Q. 3101315| 13.775| null|       S|\n",
      "|        470|     3|Baclini, Miss. He...|female|0.75|    2|    1|              2666|19.2583| null|       C|\n",
      "|       1199|     3|Aks, Master. Phil...|  male|0.83|    0|    1|            392091|   9.35| null|       S|\n",
      "|         79|     2|Caldwell, Master....|  male|0.83|    0|    2|            248738|   29.0| null|       S|\n",
      "|        832|     2|Richards, Master....|  male|0.83|    1|    1|             29106|  18.75| null|       S|\n",
      "+-----------+------+--------------------+------+----+-----+-----+------------------+-------+-----+--------+\n",
      "only showing top 10 rows\n",
      "\n"
     ]
    }
   ],
   "source": [
    "#sp\n",
    "(merge_data_sp.filter(merge_data_sp.Age.isNotNull())).sort('Age', ascending=True).show(10)"
   ]
  },
  {
   "cell_type": "markdown",
   "id": "2a3c8551",
   "metadata": {
    "papermill": {
     "duration": 0.051806,
     "end_time": "2022-09-19T01:15:35.990207",
     "exception": false,
     "start_time": "2022-09-19T01:15:35.938401",
     "status": "completed"
    },
    "tags": []
   },
   "source": [
    "We let's asume that decimal values <1 is a typing error. In this way 0.17 -> 17 years. Values >1 going to be round "
   ]
  },
  {
   "cell_type": "code",
   "execution_count": 29,
   "id": "6b1ceec8",
   "metadata": {
    "execution": {
     "iopub.execute_input": "2022-09-19T01:15:36.084165Z",
     "iopub.status.busy": "2022-09-19T01:15:36.083630Z",
     "iopub.status.idle": "2022-09-19T01:15:36.109273Z",
     "shell.execute_reply": "2022-09-19T01:15:36.108066Z"
    },
    "papermill": {
     "duration": 0.069769,
     "end_time": "2022-09-19T01:15:36.111646",
     "exception": false,
     "start_time": "2022-09-19T01:15:36.041877",
     "status": "completed"
    },
    "tags": []
   },
   "outputs": [
    {
     "data": {
      "text/html": [
       "<div>\n",
       "<style scoped>\n",
       "    .dataframe tbody tr th:only-of-type {\n",
       "        vertical-align: middle;\n",
       "    }\n",
       "\n",
       "    .dataframe tbody tr th {\n",
       "        vertical-align: top;\n",
       "    }\n",
       "\n",
       "    .dataframe thead th {\n",
       "        text-align: right;\n",
       "    }\n",
       "</style>\n",
       "<table border=\"1\" class=\"dataframe\">\n",
       "  <thead>\n",
       "    <tr style=\"text-align: right;\">\n",
       "      <th></th>\n",
       "      <th>PassengerId</th>\n",
       "      <th>Pclass</th>\n",
       "      <th>Name</th>\n",
       "      <th>Sex</th>\n",
       "      <th>Age_new</th>\n",
       "      <th>Age</th>\n",
       "      <th>SibSp</th>\n",
       "      <th>Parch</th>\n",
       "      <th>Ticket</th>\n",
       "      <th>Fare</th>\n",
       "      <th>Cabin</th>\n",
       "      <th>Embarked</th>\n",
       "    </tr>\n",
       "  </thead>\n",
       "  <tbody>\n",
       "    <tr>\n",
       "      <th>354</th>\n",
       "      <td>1246</td>\n",
       "      <td>3</td>\n",
       "      <td>Dean, Miss. Elizabeth Gladys Millvina\"\"</td>\n",
       "      <td>female</td>\n",
       "      <td>17.0</td>\n",
       "      <td>0.17</td>\n",
       "      <td>1</td>\n",
       "      <td>2</td>\n",
       "      <td>C.A. 2315</td>\n",
       "      <td>20.5750</td>\n",
       "      <td>NaN</td>\n",
       "      <td>S</td>\n",
       "    </tr>\n",
       "    <tr>\n",
       "      <th>201</th>\n",
       "      <td>1093</td>\n",
       "      <td>3</td>\n",
       "      <td>Danbom, Master. Gilbert Sigvard Emanuel</td>\n",
       "      <td>male</td>\n",
       "      <td>33.0</td>\n",
       "      <td>0.33</td>\n",
       "      <td>0</td>\n",
       "      <td>2</td>\n",
       "      <td>347080</td>\n",
       "      <td>14.4000</td>\n",
       "      <td>NaN</td>\n",
       "      <td>S</td>\n",
       "    </tr>\n",
       "    <tr>\n",
       "      <th>803</th>\n",
       "      <td>804</td>\n",
       "      <td>3</td>\n",
       "      <td>Thomas, Master. Assad Alexander</td>\n",
       "      <td>male</td>\n",
       "      <td>42.0</td>\n",
       "      <td>0.42</td>\n",
       "      <td>0</td>\n",
       "      <td>1</td>\n",
       "      <td>2625</td>\n",
       "      <td>8.5167</td>\n",
       "      <td>NaN</td>\n",
       "      <td>C</td>\n",
       "    </tr>\n",
       "    <tr>\n",
       "      <th>755</th>\n",
       "      <td>756</td>\n",
       "      <td>2</td>\n",
       "      <td>Hamalainen, Master. Viljo</td>\n",
       "      <td>male</td>\n",
       "      <td>67.0</td>\n",
       "      <td>0.67</td>\n",
       "      <td>1</td>\n",
       "      <td>1</td>\n",
       "      <td>250649</td>\n",
       "      <td>14.5000</td>\n",
       "      <td>NaN</td>\n",
       "      <td>S</td>\n",
       "    </tr>\n",
       "    <tr>\n",
       "      <th>469</th>\n",
       "      <td>470</td>\n",
       "      <td>3</td>\n",
       "      <td>Baclini, Miss. Helene Barbara</td>\n",
       "      <td>female</td>\n",
       "      <td>75.0</td>\n",
       "      <td>0.75</td>\n",
       "      <td>2</td>\n",
       "      <td>1</td>\n",
       "      <td>2666</td>\n",
       "      <td>19.2583</td>\n",
       "      <td>NaN</td>\n",
       "      <td>C</td>\n",
       "    </tr>\n",
       "    <tr>\n",
       "      <th>644</th>\n",
       "      <td>645</td>\n",
       "      <td>3</td>\n",
       "      <td>Baclini, Miss. Eugenie</td>\n",
       "      <td>female</td>\n",
       "      <td>75.0</td>\n",
       "      <td>0.75</td>\n",
       "      <td>2</td>\n",
       "      <td>1</td>\n",
       "      <td>2666</td>\n",
       "      <td>19.2583</td>\n",
       "      <td>NaN</td>\n",
       "      <td>C</td>\n",
       "    </tr>\n",
       "    <tr>\n",
       "      <th>281</th>\n",
       "      <td>1173</td>\n",
       "      <td>3</td>\n",
       "      <td>Peacock, Master. Alfred Edward</td>\n",
       "      <td>male</td>\n",
       "      <td>75.0</td>\n",
       "      <td>0.75</td>\n",
       "      <td>1</td>\n",
       "      <td>1</td>\n",
       "      <td>SOTON/O.Q. 3101315</td>\n",
       "      <td>13.7750</td>\n",
       "      <td>NaN</td>\n",
       "      <td>S</td>\n",
       "    </tr>\n",
       "    <tr>\n",
       "      <th>78</th>\n",
       "      <td>79</td>\n",
       "      <td>2</td>\n",
       "      <td>Caldwell, Master. Alden Gates</td>\n",
       "      <td>male</td>\n",
       "      <td>83.0</td>\n",
       "      <td>0.83</td>\n",
       "      <td>0</td>\n",
       "      <td>2</td>\n",
       "      <td>248738</td>\n",
       "      <td>29.0000</td>\n",
       "      <td>NaN</td>\n",
       "      <td>S</td>\n",
       "    </tr>\n",
       "    <tr>\n",
       "      <th>831</th>\n",
       "      <td>832</td>\n",
       "      <td>2</td>\n",
       "      <td>Richards, Master. George Sibley</td>\n",
       "      <td>male</td>\n",
       "      <td>83.0</td>\n",
       "      <td>0.83</td>\n",
       "      <td>1</td>\n",
       "      <td>1</td>\n",
       "      <td>29106</td>\n",
       "      <td>18.7500</td>\n",
       "      <td>NaN</td>\n",
       "      <td>S</td>\n",
       "    </tr>\n",
       "    <tr>\n",
       "      <th>307</th>\n",
       "      <td>1199</td>\n",
       "      <td>3</td>\n",
       "      <td>Aks, Master. Philip Frank</td>\n",
       "      <td>male</td>\n",
       "      <td>83.0</td>\n",
       "      <td>0.83</td>\n",
       "      <td>0</td>\n",
       "      <td>1</td>\n",
       "      <td>392091</td>\n",
       "      <td>9.3500</td>\n",
       "      <td>NaN</td>\n",
       "      <td>S</td>\n",
       "    </tr>\n",
       "  </tbody>\n",
       "</table>\n",
       "</div>"
      ],
      "text/plain": [
       "     PassengerId  Pclass                                     Name     Sex  \\\n",
       "354         1246       3  Dean, Miss. Elizabeth Gladys Millvina\"\"  female   \n",
       "201         1093       3  Danbom, Master. Gilbert Sigvard Emanuel    male   \n",
       "803          804       3          Thomas, Master. Assad Alexander    male   \n",
       "755          756       2                Hamalainen, Master. Viljo    male   \n",
       "469          470       3            Baclini, Miss. Helene Barbara  female   \n",
       "644          645       3                   Baclini, Miss. Eugenie  female   \n",
       "281         1173       3           Peacock, Master. Alfred Edward    male   \n",
       "78            79       2            Caldwell, Master. Alden Gates    male   \n",
       "831          832       2          Richards, Master. George Sibley    male   \n",
       "307         1199       3                Aks, Master. Philip Frank    male   \n",
       "\n",
       "     Age_new   Age  SibSp  Parch              Ticket     Fare Cabin Embarked  \n",
       "354     17.0  0.17      1      2           C.A. 2315  20.5750   NaN        S  \n",
       "201     33.0  0.33      0      2              347080  14.4000   NaN        S  \n",
       "803     42.0  0.42      0      1                2625   8.5167   NaN        C  \n",
       "755     67.0  0.67      1      1              250649  14.5000   NaN        S  \n",
       "469     75.0  0.75      2      1                2666  19.2583   NaN        C  \n",
       "644     75.0  0.75      2      1                2666  19.2583   NaN        C  \n",
       "281     75.0  0.75      1      1  SOTON/O.Q. 3101315  13.7750   NaN        S  \n",
       "78      83.0  0.83      0      2              248738  29.0000   NaN        S  \n",
       "831     83.0  0.83      1      1               29106  18.7500   NaN        S  \n",
       "307     83.0  0.83      0      1              392091   9.3500   NaN        S  "
      ]
     },
     "execution_count": 29,
     "metadata": {},
     "output_type": "execute_result"
    }
   ],
   "source": [
    "#pd\n",
    "merge_data.insert(4, \"Age_new\", [Age*100 if Age < 1 else Age for Age in merge_data.Age]) \n",
    "merge_data.nsmallest(10, ['Age'])"
   ]
  },
  {
   "cell_type": "code",
   "execution_count": 30,
   "id": "bde599d8",
   "metadata": {
    "execution": {
     "iopub.execute_input": "2022-09-19T01:15:36.181151Z",
     "iopub.status.busy": "2022-09-19T01:15:36.179886Z",
     "iopub.status.idle": "2022-09-19T01:15:36.998604Z",
     "shell.execute_reply": "2022-09-19T01:15:36.997672Z"
    },
    "papermill": {
     "duration": 0.856985,
     "end_time": "2022-09-19T01:15:37.001856",
     "exception": false,
     "start_time": "2022-09-19T01:15:36.144871",
     "status": "completed"
    },
    "tags": []
   },
   "outputs": [],
   "source": [
    "#sp\n",
    "count = 0 \n",
    "valor = []\n",
    "for i in merge_data_sp.sort(F.col(\"PassengerId\")).collect():\n",
    "    count += 1\n",
    "    if isinstance(i[\"Age\"], float) and i[\"Age\"] < 1:\n",
    "        valor.append((count,i[\"Age\"]*100))\n",
    "    else:\n",
    "        valor.append((count,i[\"Age\"]))\n",
    "\n",
    "#valor = [(count,i[\"Age\"]*100) if isinstance(i[\"Age\"], float) and i[\"Age\"] < 1 else (count,i[\"Age\"]) for i in merge_data_sp.collect()]\n",
    "columns = ['id','Age_new']\n",
    "aux_col = spark.createDataFrame(valor).toDF(*columns)\n",
    "#aux_col.show()"
   ]
  },
  {
   "cell_type": "code",
   "execution_count": 31,
   "id": "b3ce151a",
   "metadata": {
    "execution": {
     "iopub.execute_input": "2022-09-19T01:15:37.108692Z",
     "iopub.status.busy": "2022-09-19T01:15:37.107924Z",
     "iopub.status.idle": "2022-09-19T01:15:38.762197Z",
     "shell.execute_reply": "2022-09-19T01:15:38.760407Z"
    },
    "papermill": {
     "duration": 1.711252,
     "end_time": "2022-09-19T01:15:38.765892",
     "exception": false,
     "start_time": "2022-09-19T01:15:37.054640",
     "status": "completed"
    },
    "tags": []
   },
   "outputs": [
    {
     "name": "stderr",
     "output_type": "stream",
     "text": [
      "[Stage 30:>                                                         (0 + 2) / 2]\r"
     ]
    },
    {
     "name": "stdout",
     "output_type": "stream",
     "text": [
      "+-----------+------+--------------------+------+----+-----+-----+------------------+-------+-----+--------+-------+\n",
      "|PassengerId|Pclass|                Name|   Sex| Age|SibSp|Parch|            Ticket|   Fare|Cabin|Embarked|Age_new|\n",
      "+-----------+------+--------------------+------+----+-----+-----+------------------+-------+-----+--------+-------+\n",
      "|       1246|     3|Dean, Miss. Eliza...|female|0.17|    1|    2|         C.A. 2315| 20.575| null|       S|   17.0|\n",
      "|       1093|     3|Danbom, Master. G...|  male|0.33|    0|    2|            347080|   14.4| null|       S|   33.0|\n",
      "|        804|     3|Thomas, Master. A...|  male|0.42|    0|    1|              2625| 8.5167| null|       C|   42.0|\n",
      "|        756|     2|Hamalainen, Maste...|  male|0.67|    1|    1|            250649|   14.5| null|       S|   67.0|\n",
      "|        645|     3|Baclini, Miss. Eu...|female|0.75|    2|    1|              2666|19.2583| null|       C|   75.0|\n",
      "|        470|     3|Baclini, Miss. He...|female|0.75|    2|    1|              2666|19.2583| null|       C|   75.0|\n",
      "|       1173|     3|Peacock, Master. ...|  male|0.75|    1|    1|SOTON/O.Q. 3101315| 13.775| null|       S|   75.0|\n",
      "|         79|     2|Caldwell, Master....|  male|0.83|    0|    2|            248738|   29.0| null|       S|   83.0|\n",
      "|        832|     2|Richards, Master....|  male|0.83|    1|    1|             29106|  18.75| null|       S|   83.0|\n",
      "|       1199|     3|Aks, Master. Phil...|  male|0.83|    0|    1|            392091|   9.35| null|       S|   83.0|\n",
      "+-----------+------+--------------------+------+----+-----+-----+------------------+-------+-----+--------+-------+\n",
      "only showing top 10 rows\n",
      "\n"
     ]
    },
    {
     "name": "stderr",
     "output_type": "stream",
     "text": [
      "                                                                                \r"
     ]
    }
   ],
   "source": [
    "#sp\n",
    "#merge_data_sp = merge_data_sp.coalesce(1).withColumn(\"rowId\", m_id()+1)\n",
    "merge_data_sp = merge_data_sp.join(aux_col,merge_data_sp.PassengerId ==  aux_col.id,\"left\").select(merge_data_sp[\"*\"], aux_col.Age_new)  \n",
    "(merge_data_sp.filter(merge_data_sp.Age.isNotNull())).sort('Age', ascending=True).show(10)"
   ]
  },
  {
   "cell_type": "markdown",
   "id": "6d56cc4b",
   "metadata": {
    "papermill": {
     "duration": 0.033445,
     "end_time": "2022-09-19T01:15:38.834662",
     "exception": false,
     "start_time": "2022-09-19T01:15:38.801217",
     "status": "completed"
    },
    "tags": []
   },
   "source": [
    "### 3.2 Impute data to missing values"
   ]
  },
  {
   "cell_type": "code",
   "execution_count": 32,
   "id": "56186706",
   "metadata": {
    "execution": {
     "iopub.execute_input": "2022-09-19T01:15:38.904144Z",
     "iopub.status.busy": "2022-09-19T01:15:38.903758Z",
     "iopub.status.idle": "2022-09-19T01:15:38.913360Z",
     "shell.execute_reply": "2022-09-19T01:15:38.912459Z"
    },
    "papermill": {
     "duration": 0.047037,
     "end_time": "2022-09-19T01:15:38.915677",
     "exception": false,
     "start_time": "2022-09-19T01:15:38.868640",
     "status": "completed"
    },
    "tags": []
   },
   "outputs": [],
   "source": [
    "#pd\n",
    "merge_data['Embarked'].fillna((merge_data['Embarked'].mode()[0]), inplace = True)\n",
    "merge_data['Age_new'].fillna((merge_data['Age_new'].median()), inplace = True)\n",
    "merge_data['Fare'].fillna((merge_data['Fare'].mean()), inplace = True)"
   ]
  },
  {
   "cell_type": "code",
   "execution_count": 33,
   "id": "de25a542",
   "metadata": {
    "execution": {
     "iopub.execute_input": "2022-09-19T01:15:38.986560Z",
     "iopub.status.busy": "2022-09-19T01:15:38.985791Z",
     "iopub.status.idle": "2022-09-19T01:15:41.209489Z",
     "shell.execute_reply": "2022-09-19T01:15:41.208322Z"
    },
    "papermill": {
     "duration": 2.263698,
     "end_time": "2022-09-19T01:15:41.212899",
     "exception": false,
     "start_time": "2022-09-19T01:15:38.949201",
     "status": "completed"
    },
    "tags": []
   },
   "outputs": [],
   "source": [
    "#sp\n",
    "ipte_Embarked = merge_data_sp.groupby(\"Embarked\").count().orderBy(\"count\", ascending=False).first()[0]\n",
    "merge_data_sp = merge_data_sp.na.fill(value=ipte_Embarked,subset=[\"Embarked\"])\n",
    "ipte_Age_new = merge_data_sp.approxQuantile(\"Age_new\", [0.5], 0.25)[0]\n",
    "merge_data_sp = merge_data_sp.na.fill(value=ipte_Age_new,subset=[\"Age_new\"])\n",
    "ipte_Fare = merge_data_sp.agg({'Fare':'mean'}).collect()[0][0]\n",
    "merge_data_sp = merge_data_sp.na.fill(value=ipte_Fare,subset=[\"Fare\"])"
   ]
  },
  {
   "cell_type": "code",
   "execution_count": 34,
   "id": "93f2a8f3",
   "metadata": {
    "execution": {
     "iopub.execute_input": "2022-09-19T01:15:41.316620Z",
     "iopub.status.busy": "2022-09-19T01:15:41.315275Z",
     "iopub.status.idle": "2022-09-19T01:15:41.323774Z",
     "shell.execute_reply": "2022-09-19T01:15:41.322543Z"
    },
    "papermill": {
     "duration": 0.062358,
     "end_time": "2022-09-19T01:15:41.326606",
     "exception": false,
     "start_time": "2022-09-19T01:15:41.264248",
     "status": "completed"
    },
    "tags": []
   },
   "outputs": [],
   "source": [
    "#pd\n",
    "#change type float to int\n",
    "merge_data[['Age_new']] = merge_data[['Age_new']].astype(int)"
   ]
  },
  {
   "cell_type": "code",
   "execution_count": 35,
   "id": "05edc6ad",
   "metadata": {
    "execution": {
     "iopub.execute_input": "2022-09-19T01:15:41.427759Z",
     "iopub.status.busy": "2022-09-19T01:15:41.426823Z",
     "iopub.status.idle": "2022-09-19T01:15:41.465659Z",
     "shell.execute_reply": "2022-09-19T01:15:41.464179Z"
    },
    "papermill": {
     "duration": 0.092984,
     "end_time": "2022-09-19T01:15:41.468816",
     "exception": false,
     "start_time": "2022-09-19T01:15:41.375832",
     "status": "completed"
    },
    "tags": []
   },
   "outputs": [],
   "source": [
    "#sp\n",
    "#change type float to int\n",
    "merge_data_sp = merge_data_sp.withColumn(\"Age_new\",col(\"Age_new\").cast(IntegerType()))"
   ]
  },
  {
   "cell_type": "markdown",
   "id": "f417a47d",
   "metadata": {
    "papermill": {
     "duration": 0.051689,
     "end_time": "2022-09-19T01:15:41.573002",
     "exception": false,
     "start_time": "2022-09-19T01:15:41.521313",
     "status": "completed"
    },
    "tags": []
   },
   "source": [
    "# 4. Preparing data set trainig and test"
   ]
  },
  {
   "cell_type": "code",
   "execution_count": 36,
   "id": "401e9e20",
   "metadata": {
    "execution": {
     "iopub.execute_input": "2022-09-19T01:15:41.660759Z",
     "iopub.status.busy": "2022-09-19T01:15:41.660324Z",
     "iopub.status.idle": "2022-09-19T01:15:41.669188Z",
     "shell.execute_reply": "2022-09-19T01:15:41.668404Z"
    },
    "papermill": {
     "duration": 0.049435,
     "end_time": "2022-09-19T01:15:41.671414",
     "exception": false,
     "start_time": "2022-09-19T01:15:41.621979",
     "status": "completed"
    },
    "tags": []
   },
   "outputs": [],
   "source": [
    "#pd\n",
    "dftrain = merge_data[merge_data['PassengerId'].between(1,891)]\n",
    "dftest = merge_data[merge_data['PassengerId'].between(892,1309)]"
   ]
  },
  {
   "cell_type": "code",
   "execution_count": 37,
   "id": "2a6459a4",
   "metadata": {
    "execution": {
     "iopub.execute_input": "2022-09-19T01:15:41.740912Z",
     "iopub.status.busy": "2022-09-19T01:15:41.740125Z",
     "iopub.status.idle": "2022-09-19T01:15:41.757876Z",
     "shell.execute_reply": "2022-09-19T01:15:41.756603Z"
    },
    "papermill": {
     "duration": 0.055609,
     "end_time": "2022-09-19T01:15:41.760541",
     "exception": false,
     "start_time": "2022-09-19T01:15:41.704932",
     "status": "completed"
    },
    "tags": []
   },
   "outputs": [],
   "source": [
    "#pd add column Survived\n",
    "dftrain = pd.merge(dftrain, train_data[['PassengerId','Survived']], how=\"left\", on= \"PassengerId\")"
   ]
  },
  {
   "cell_type": "code",
   "execution_count": 38,
   "id": "3c5d91c3",
   "metadata": {
    "execution": {
     "iopub.execute_input": "2022-09-19T01:15:41.830215Z",
     "iopub.status.busy": "2022-09-19T01:15:41.829808Z",
     "iopub.status.idle": "2022-09-19T01:15:41.850029Z",
     "shell.execute_reply": "2022-09-19T01:15:41.846475Z"
    },
    "papermill": {
     "duration": 0.057926,
     "end_time": "2022-09-19T01:15:41.852624",
     "exception": false,
     "start_time": "2022-09-19T01:15:41.794698",
     "status": "completed"
    },
    "tags": []
   },
   "outputs": [],
   "source": [
    "#sp\n",
    "dftrain_sp = merge_data_sp.filter(merge_data_sp.PassengerId.between(1,891))\n",
    "dftest_sp = merge_data_sp.filter(merge_data_sp.PassengerId.between(892,1309))"
   ]
  },
  {
   "cell_type": "code",
   "execution_count": 39,
   "id": "89b9bd2b",
   "metadata": {
    "execution": {
     "iopub.execute_input": "2022-09-19T01:15:41.923105Z",
     "iopub.status.busy": "2022-09-19T01:15:41.921753Z",
     "iopub.status.idle": "2022-09-19T01:15:41.982408Z",
     "shell.execute_reply": "2022-09-19T01:15:41.981059Z"
    },
    "papermill": {
     "duration": 0.100163,
     "end_time": "2022-09-19T01:15:41.986799",
     "exception": false,
     "start_time": "2022-09-19T01:15:41.886636",
     "status": "completed"
    },
    "tags": []
   },
   "outputs": [],
   "source": [
    "#sp add column Survived\n",
    "train_data_sp = train_data_sp.toDF(*train_data_sp.columns)\n",
    "dftrain_sp = dftrain_sp.join(train_data_sp,dftrain_sp.PassengerId ==  train_data_sp.PassengerId,\"left\").select(dftrain_sp[\"*\"], train_data_sp[\"Survived\"])"
   ]
  },
  {
   "cell_type": "markdown",
   "id": "6ccdccb0",
   "metadata": {
    "papermill": {
     "duration": 0.05231,
     "end_time": "2022-09-19T01:15:42.093039",
     "exception": false,
     "start_time": "2022-09-19T01:15:42.040729",
     "status": "completed"
    },
    "tags": []
   },
   "source": [
    "# 5. Analyze features of the variables"
   ]
  },
  {
   "cell_type": "markdown",
   "id": "cad5bc13",
   "metadata": {
    "papermill": {
     "duration": 0.033355,
     "end_time": "2022-09-19T01:15:42.176741",
     "exception": false,
     "start_time": "2022-09-19T01:15:42.143386",
     "status": "completed"
    },
    "tags": []
   },
   "source": [
    "Let's take a look at the features of each variable with respect to the response (\"Survived\")"
   ]
  },
  {
   "cell_type": "markdown",
   "id": "fe25141c",
   "metadata": {
    "papermill": {
     "duration": 0.033121,
     "end_time": "2022-09-19T01:15:42.243438",
     "exception": false,
     "start_time": "2022-09-19T01:15:42.210317",
     "status": "completed"
    },
    "tags": []
   },
   "source": [
    "### 5.1. Continue variables"
   ]
  },
  {
   "cell_type": "code",
   "execution_count": 40,
   "id": "68f530a7",
   "metadata": {
    "execution": {
     "iopub.execute_input": "2022-09-19T01:15:42.313177Z",
     "iopub.status.busy": "2022-09-19T01:15:42.312771Z",
     "iopub.status.idle": "2022-09-19T01:15:43.352842Z",
     "shell.execute_reply": "2022-09-19T01:15:43.351620Z"
    },
    "papermill": {
     "duration": 1.078009,
     "end_time": "2022-09-19T01:15:43.355555",
     "exception": false,
     "start_time": "2022-09-19T01:15:42.277546",
     "status": "completed"
    },
    "tags": []
   },
   "outputs": [
    {
     "data": {
      "image/png": "[encoded data removed]",
      "text/plain": [
       "<Figure size 1008x504 with 5 Axes>"
      ]
     },
     "metadata": {
      "needs_background": "light"
     },
     "output_type": "display_data"
    }
   ],
   "source": [
    "# pd\n",
    "def prob_df(variable, df):\n",
    "    rating_probs_no = pd.DataFrame(\n",
    "        df[df.Survived == 0].groupby(variable).size().div(len(df)))\n",
    "    rating_probs_yes = pd.DataFrame(\n",
    "        df[df.Survived == 1].groupby(variable).size().div(len(df)))\n",
    "    df_2 = rating_probs_no.merge(rating_probs_yes,\n",
    "                                 how='outer',\n",
    "                                 left_index=True,\n",
    "                                 right_index=True)\n",
    "    df_2.columns = ['No', 'Yes']\n",
    "    return df_2\n",
    "\n",
    "fig, axes = plt.subplots(2, 3, figsize=(14, 7))\n",
    "prob_df('Pclass',dftrain).plot(ax=axes[0, 0], kind='bar', ylim=(0, 0.5), rot=0)\n",
    "axes[0, 0].set_ylabel('Probability')\n",
    "prob_df('Sex',dftrain).plot(ax=axes[0, 1], kind='bar', ylim=(0, 0.55), rot=0)\n",
    "prob_df('SibSp',dftrain).plot(ax=axes[1, 0], kind='bar', ylim=(0, 0.5), rot=0)\n",
    "axes[1, 0].set_ylabel('Probability')\n",
    "prob_df('Embarked',dftrain).plot(ax=axes[0, 2],kind='bar', ylim=(0, 0.55), rot=0)\n",
    "prob_df('Parch',dftrain).plot(ax=axes[1, 1],kind='bar', ylim=(0, 0.55), rot=0)\n",
    "plt.tight_layout()\n",
    "\n",
    "fig.delaxes(axes[1,2])\n",
    "\n",
    "\n",
    "# ddd = dftrain_sp.filter(dftrain_sp.Survived == 0).groupby('Pclass').count()\n",
    "# ddd1 = dftrain_sp.filter(dftrain_sp.Survived == 0).groupby('Pclass').count()\n",
    "# ddd.join(ddd,ddd1.Pclass ==  ddd.Pclass,\"left\") \\\n",
    "#      .show(truncate=False)\n"
   ]
  },
  {
   "cell_type": "code",
   "execution_count": 41,
   "id": "60b263f7",
   "metadata": {
    "execution": {
     "iopub.execute_input": "2022-09-19T01:15:43.426097Z",
     "iopub.status.busy": "2022-09-19T01:15:43.425621Z",
     "iopub.status.idle": "2022-09-19T01:15:44.794281Z",
     "shell.execute_reply": "2022-09-19T01:15:44.793314Z"
    },
    "papermill": {
     "duration": 1.405968,
     "end_time": "2022-09-19T01:15:44.796673",
     "exception": false,
     "start_time": "2022-09-19T01:15:43.390705",
     "status": "completed"
    },
    "tags": []
   },
   "outputs": [
    {
     "data": {
      "image/png": "[encoded data removed]",
      "text/plain": [
       "<Figure size 1080x792 with 4 Axes>"
      ]
     },
     "metadata": {
      "needs_background": "light"
     },
     "output_type": "display_data"
    }
   ],
   "source": [
    "fig, axes = plt.subplots(nrows=2, ncols=2, figsize=(15, 11))\n",
    "axes = axes.flat\n",
    "columnas_numeric = dftrain[['Age_new','SibSp','Parch','Fare']]\n",
    "for i, colum in enumerate(columnas_numeric):\n",
    "    sns.histplot(\n",
    "        data    = dftrain,\n",
    "        x       = colum,\n",
    "        stat    = \"count\",\n",
    "        color   = (list(plt.rcParams['axes.prop_cycle'])*3)[i][\"color\"],\n",
    "        kde     = True,\n",
    "        line_kws= {'linewidth': 2},\n",
    "        alpha   = 0.3,\n",
    "        ax      = axes[i]\n",
    "    )\n",
    "    axes[i].set_title(colum, fontsize = 11, fontweight = \"bold\")\n",
    "    axes[i].tick_params(labelsize = 6)\n",
    "    axes[i].set_xlabel(\"\")\n",
    "\n",
    "fig.tight_layout()\n",
    "plt.subplots_adjust(top = 0.9)\n",
    "fig.suptitle('Numeric variables distribution', fontsize = 10, fontweight = \"bold\");"
   ]
  },
  {
   "cell_type": "markdown",
   "id": "32acdb6d",
   "metadata": {
    "papermill": {
     "duration": 0.035385,
     "end_time": "2022-09-19T01:15:44.866846",
     "exception": false,
     "start_time": "2022-09-19T01:15:44.831461",
     "status": "completed"
    },
    "tags": []
   },
   "source": [
    "### 5.2. Categorical variables"
   ]
  },
  {
   "cell_type": "code",
   "execution_count": 42,
   "id": "28256364",
   "metadata": {
    "execution": {
     "iopub.execute_input": "2022-09-19T01:15:44.938987Z",
     "iopub.status.busy": "2022-09-19T01:15:44.937954Z",
     "iopub.status.idle": "2022-09-19T01:15:44.949656Z",
     "shell.execute_reply": "2022-09-19T01:15:44.948521Z"
    },
    "papermill": {
     "duration": 0.050063,
     "end_time": "2022-09-19T01:15:44.951997",
     "exception": false,
     "start_time": "2022-09-19T01:15:44.901934",
     "status": "completed"
    },
    "tags": []
   },
   "outputs": [
    {
     "data": {
      "text/plain": [
       "Adult    731\n",
       "Young    132\n",
       "Old       28\n",
       "Name: Age_grp, dtype: int64"
      ]
     },
     "execution_count": 42,
     "metadata": {},
     "output_type": "execute_result"
    }
   ],
   "source": [
    "dftrain['Age_grp'] = dftrain['Age_new'].apply(\n",
    "    lambda x: \"Young\" if x <= 18\n",
    "    else (\"Adult\" if x > 18 and x <= 60\n",
    "    else (\"Old\" if x > 60\n",
    "    else 9999)))\n",
    "\n",
    "dftrain['Age_grp'].value_counts()"
   ]
  },
  {
   "cell_type": "code",
   "execution_count": 43,
   "id": "31b45128",
   "metadata": {
    "execution": {
     "iopub.execute_input": "2022-09-19T01:15:45.024456Z",
     "iopub.status.busy": "2022-09-19T01:15:45.024032Z",
     "iopub.status.idle": "2022-09-19T01:15:45.039954Z",
     "shell.execute_reply": "2022-09-19T01:15:45.039136Z"
    },
    "papermill": {
     "duration": 0.053996,
     "end_time": "2022-09-19T01:15:45.042030",
     "exception": false,
     "start_time": "2022-09-19T01:15:44.988034",
     "status": "completed"
    },
    "tags": []
   },
   "outputs": [
    {
     "data": {
      "text/plain": [
       "MediumLow     224\n",
       "Low           223\n",
       "High          222\n",
       "MediumHigh    222\n",
       "Name: Fare_grp, dtype: int64"
      ]
     },
     "execution_count": 43,
     "metadata": {},
     "output_type": "execute_result"
    }
   ],
   "source": [
    "Q1 = dftrain.Fare.quantile(0.25)\n",
    "Q2 = dftrain.Fare.quantile(0.50)\n",
    "Q3 = dftrain.Fare.quantile(0.75)\n",
    "dftrain['Fare_grp'] = dftrain['Fare'].apply(\n",
    "    lambda x: \"Low\" if x <= Q1\n",
    "    else (\"MediumLow\" if x > Q1 and x <= Q2\n",
    "    else (\"MediumHigh\" if x >  Q2 and x <= Q3\n",
    "    else \"High\")))\n",
    "\n",
    "dftrain['Fare_grp'].value_counts()"
   ]
  },
  {
   "cell_type": "code",
   "execution_count": 44,
   "id": "6ebe8ab1",
   "metadata": {
    "execution": {
     "iopub.execute_input": "2022-09-19T01:15:45.113443Z",
     "iopub.status.busy": "2022-09-19T01:15:45.112682Z",
     "iopub.status.idle": "2022-09-19T01:15:45.124332Z",
     "shell.execute_reply": "2022-09-19T01:15:45.123289Z"
    },
    "papermill": {
     "duration": 0.050124,
     "end_time": "2022-09-19T01:15:45.126755",
     "exception": false,
     "start_time": "2022-09-19T01:15:45.076631",
     "status": "completed"
    },
    "tags": []
   },
   "outputs": [
    {
     "data": {
      "text/plain": [
       "Single    537\n",
       "Medium    307\n",
       "Big        47\n",
       "Name: Family_grp, dtype: int64"
      ]
     },
     "execution_count": 44,
     "metadata": {},
     "output_type": "execute_result"
    }
   ],
   "source": [
    "dftrain['Family'] = dftrain['SibSp'] + dftrain['Parch']\n",
    "dftrain['Family_grp'] = dftrain['Family'].apply(\n",
    "    lambda x: \"Single\" if x == 0\n",
    "    else (\"Medium\" if x > 0  and x < 5\n",
    "    else (\"Big\" if x >=  5 \n",
    "    else \"bad\")))\n",
    "\n",
    "dftrain['Family_grp'].value_counts()"
   ]
  },
  {
   "cell_type": "code",
   "execution_count": 45,
   "id": "ddf804de",
   "metadata": {
    "execution": {
     "iopub.execute_input": "2022-09-19T01:15:45.199544Z",
     "iopub.status.busy": "2022-09-19T01:15:45.198364Z",
     "iopub.status.idle": "2022-09-19T01:15:46.149712Z",
     "shell.execute_reply": "2022-09-19T01:15:46.148590Z"
    },
    "papermill": {
     "duration": 0.990716,
     "end_time": "2022-09-19T01:15:46.152104",
     "exception": false,
     "start_time": "2022-09-19T01:15:45.161388",
     "status": "completed"
    },
    "tags": []
   },
   "outputs": [
    {
     "data": {
      "image/png": "[encoded data removed]",
      "text/plain": [
       "<Figure size 1008x504 with 6 Axes>"
      ]
     },
     "metadata": {
      "needs_background": "light"
     },
     "output_type": "display_data"
    }
   ],
   "source": [
    "fig, axes = plt.subplots(2, 3, figsize=(14, 7))\n",
    "prob_df('Pclass',dftrain).plot(ax=axes[0, 0], kind='bar', ylim=(0, 0.5), rot=0)\n",
    "axes[0, 0].set_ylabel('Probability')\n",
    "prob_df('Sex',dftrain).plot(ax=axes[0, 1], kind='bar', ylim=(0, 0.55), rot=0)\n",
    "prob_df('Age_grp',dftrain).plot(ax=axes[1, 0], kind='bar', ylim=(0, 0.55), rot=0)\n",
    "axes[1, 0].set_ylabel('Probability')\n",
    "prob_df('Embarked',dftrain).plot(ax=axes[0, 2],kind='bar', ylim=(0, 0.55), rot=0)\n",
    "prob_df('Fare_grp',dftrain).plot(ax=axes[1, 1],kind='bar', ylim=(0, 0.25), rot=0)\n",
    "prob_df('Family_grp',dftrain).plot(ax=axes[1, 2],kind='bar', ylim=(0, 0.45), rot=0)\n",
    "plt.tight_layout()"
   ]
  },
  {
   "cell_type": "code",
   "execution_count": 46,
   "id": "491763a5",
   "metadata": {
    "execution": {
     "iopub.execute_input": "2022-09-19T01:15:46.225432Z",
     "iopub.status.busy": "2022-09-19T01:15:46.224998Z",
     "iopub.status.idle": "2022-09-19T01:15:46.242331Z",
     "shell.execute_reply": "2022-09-19T01:15:46.240989Z"
    },
    "papermill": {
     "duration": 0.056936,
     "end_time": "2022-09-19T01:15:46.245086",
     "exception": false,
     "start_time": "2022-09-19T01:15:46.188150",
     "status": "completed"
    },
    "tags": []
   },
   "outputs": [],
   "source": [
    "merge_data['Age_grp'] = merge_data['Age_new'].apply(\n",
    "    lambda x: \"Young\" if x <= 18\n",
    "    else (\"Adult\" if x > 18 and x <= 60\n",
    "    else (\"Old\" if x > 60\n",
    "    else 9999)))\n",
    "\n",
    "Q1 = merge_data.Fare.quantile(0.25)\n",
    "Q2 = merge_data.Fare.quantile(0.50)\n",
    "Q3 = merge_data.Fare.quantile(0.75)\n",
    "merge_data['Fare_grp'] = merge_data['Fare'].apply(\n",
    "    lambda x: \"Low\" if x <= Q1\n",
    "    else (\"MediumLow\" if x > Q1 and x <= Q2\n",
    "    else (\"MediumHigh\" if x >  Q2 and x <= Q3\n",
    "    else \"High\")))\n",
    "\n",
    "merge_data['Family'] = merge_data['SibSp'] + merge_data['Parch']\n",
    "merge_data['Family_grp'] = merge_data['Family'].apply(\n",
    "    lambda x: \"Single\" if x == 0\n",
    "    else (\"Medium\" if x > 0  and x < 5\n",
    "    else (\"Big\" if x >=  5 \n",
    "    else \"bad\")))"
   ]
  },
  {
   "cell_type": "markdown",
   "id": "8ca0f198",
   "metadata": {
    "papermill": {
     "duration": 0.034579,
     "end_time": "2022-09-19T01:15:46.316484",
     "exception": false,
     "start_time": "2022-09-19T01:15:46.281905",
     "status": "completed"
    },
    "tags": []
   },
   "source": [
    "# 6. Model variables"
   ]
  },
  {
   "cell_type": "markdown",
   "id": "1eb3b394",
   "metadata": {
    "papermill": {
     "duration": 0.035182,
     "end_time": "2022-09-19T01:15:46.386956",
     "exception": false,
     "start_time": "2022-09-19T01:15:46.351774",
     "status": "completed"
    },
    "tags": []
   },
   "source": [
    "### 6.1 Select features"
   ]
  },
  {
   "cell_type": "code",
   "execution_count": 47,
   "id": "4c57ba1a",
   "metadata": {
    "execution": {
     "iopub.execute_input": "2022-09-19T01:15:46.459122Z",
     "iopub.status.busy": "2022-09-19T01:15:46.458699Z",
     "iopub.status.idle": "2022-09-19T01:15:46.474828Z",
     "shell.execute_reply": "2022-09-19T01:15:46.473554Z"
    },
    "papermill": {
     "duration": 0.055239,
     "end_time": "2022-09-19T01:15:46.477187",
     "exception": false,
     "start_time": "2022-09-19T01:15:46.421948",
     "status": "completed"
    },
    "tags": []
   },
   "outputs": [
    {
     "data": {
      "text/html": [
       "<div>\n",
       "<style scoped>\n",
       "    .dataframe tbody tr th:only-of-type {\n",
       "        vertical-align: middle;\n",
       "    }\n",
       "\n",
       "    .dataframe tbody tr th {\n",
       "        vertical-align: top;\n",
       "    }\n",
       "\n",
       "    .dataframe thead th {\n",
       "        text-align: right;\n",
       "    }\n",
       "</style>\n",
       "<table border=\"1\" class=\"dataframe\">\n",
       "  <thead>\n",
       "    <tr style=\"text-align: right;\">\n",
       "      <th></th>\n",
       "      <th>Pclass</th>\n",
       "      <th>Sex</th>\n",
       "      <th>Embarked</th>\n",
       "      <th>Age_grp</th>\n",
       "      <th>Fare_grp</th>\n",
       "      <th>Family_grp</th>\n",
       "    </tr>\n",
       "  </thead>\n",
       "  <tbody>\n",
       "    <tr>\n",
       "      <th>0</th>\n",
       "      <td>3</td>\n",
       "      <td>male</td>\n",
       "      <td>S</td>\n",
       "      <td>Adult</td>\n",
       "      <td>Low</td>\n",
       "      <td>Medium</td>\n",
       "    </tr>\n",
       "    <tr>\n",
       "      <th>1</th>\n",
       "      <td>1</td>\n",
       "      <td>female</td>\n",
       "      <td>C</td>\n",
       "      <td>Adult</td>\n",
       "      <td>High</td>\n",
       "      <td>Medium</td>\n",
       "    </tr>\n",
       "    <tr>\n",
       "      <th>2</th>\n",
       "      <td>3</td>\n",
       "      <td>female</td>\n",
       "      <td>S</td>\n",
       "      <td>Adult</td>\n",
       "      <td>MediumLow</td>\n",
       "      <td>Single</td>\n",
       "    </tr>\n",
       "    <tr>\n",
       "      <th>3</th>\n",
       "      <td>1</td>\n",
       "      <td>female</td>\n",
       "      <td>S</td>\n",
       "      <td>Adult</td>\n",
       "      <td>High</td>\n",
       "      <td>Medium</td>\n",
       "    </tr>\n",
       "    <tr>\n",
       "      <th>4</th>\n",
       "      <td>3</td>\n",
       "      <td>male</td>\n",
       "      <td>S</td>\n",
       "      <td>Adult</td>\n",
       "      <td>MediumLow</td>\n",
       "      <td>Single</td>\n",
       "    </tr>\n",
       "  </tbody>\n",
       "</table>\n",
       "</div>"
      ],
      "text/plain": [
       "   Pclass     Sex Embarked Age_grp   Fare_grp Family_grp\n",
       "0       3    male        S   Adult        Low     Medium\n",
       "1       1  female        C   Adult       High     Medium\n",
       "2       3  female        S   Adult  MediumLow     Single\n",
       "3       1  female        S   Adult       High     Medium\n",
       "4       3    male        S   Adult  MediumLow     Single"
      ]
     },
     "execution_count": 47,
     "metadata": {},
     "output_type": "execute_result"
    }
   ],
   "source": [
    "model_columns = merge_data[['Pclass','Sex','Embarked','Age_grp','Fare_grp','Family_grp']]\n",
    "model_columns.head()"
   ]
  },
  {
   "cell_type": "code",
   "execution_count": 48,
   "id": "9137f83e",
   "metadata": {
    "execution": {
     "iopub.execute_input": "2022-09-19T01:15:46.549397Z",
     "iopub.status.busy": "2022-09-19T01:15:46.549001Z",
     "iopub.status.idle": "2022-09-19T01:15:46.572029Z",
     "shell.execute_reply": "2022-09-19T01:15:46.570934Z"
    },
    "papermill": {
     "duration": 0.062046,
     "end_time": "2022-09-19T01:15:46.574497",
     "exception": false,
     "start_time": "2022-09-19T01:15:46.512451",
     "status": "completed"
    },
    "tags": []
   },
   "outputs": [
    {
     "data": {
      "text/html": [
       "<div>\n",
       "<style scoped>\n",
       "    .dataframe tbody tr th:only-of-type {\n",
       "        vertical-align: middle;\n",
       "    }\n",
       "\n",
       "    .dataframe tbody tr th {\n",
       "        vertical-align: top;\n",
       "    }\n",
       "\n",
       "    .dataframe thead th {\n",
       "        text-align: right;\n",
       "    }\n",
       "</style>\n",
       "<table border=\"1\" class=\"dataframe\">\n",
       "  <thead>\n",
       "    <tr style=\"text-align: right;\">\n",
       "      <th></th>\n",
       "      <th>Pclass</th>\n",
       "      <th>Sex_female</th>\n",
       "      <th>Sex_male</th>\n",
       "      <th>Embarked_C</th>\n",
       "      <th>Embarked_Q</th>\n",
       "      <th>Embarked_S</th>\n",
       "      <th>Age_grp_Adult</th>\n",
       "      <th>Age_grp_Old</th>\n",
       "      <th>Age_grp_Young</th>\n",
       "      <th>Fare_grp_High</th>\n",
       "      <th>Fare_grp_Low</th>\n",
       "      <th>Fare_grp_MediumHigh</th>\n",
       "      <th>Fare_grp_MediumLow</th>\n",
       "      <th>Family_grp_Big</th>\n",
       "      <th>Family_grp_Medium</th>\n",
       "      <th>Family_grp_Single</th>\n",
       "    </tr>\n",
       "  </thead>\n",
       "  <tbody>\n",
       "    <tr>\n",
       "      <th>0</th>\n",
       "      <td>3</td>\n",
       "      <td>0</td>\n",
       "      <td>1</td>\n",
       "      <td>0</td>\n",
       "      <td>0</td>\n",
       "      <td>1</td>\n",
       "      <td>1</td>\n",
       "      <td>0</td>\n",
       "      <td>0</td>\n",
       "      <td>0</td>\n",
       "      <td>1</td>\n",
       "      <td>0</td>\n",
       "      <td>0</td>\n",
       "      <td>0</td>\n",
       "      <td>1</td>\n",
       "      <td>0</td>\n",
       "    </tr>\n",
       "    <tr>\n",
       "      <th>1</th>\n",
       "      <td>1</td>\n",
       "      <td>1</td>\n",
       "      <td>0</td>\n",
       "      <td>1</td>\n",
       "      <td>0</td>\n",
       "      <td>0</td>\n",
       "      <td>1</td>\n",
       "      <td>0</td>\n",
       "      <td>0</td>\n",
       "      <td>1</td>\n",
       "      <td>0</td>\n",
       "      <td>0</td>\n",
       "      <td>0</td>\n",
       "      <td>0</td>\n",
       "      <td>1</td>\n",
       "      <td>0</td>\n",
       "    </tr>\n",
       "    <tr>\n",
       "      <th>2</th>\n",
       "      <td>3</td>\n",
       "      <td>1</td>\n",
       "      <td>0</td>\n",
       "      <td>0</td>\n",
       "      <td>0</td>\n",
       "      <td>1</td>\n",
       "      <td>1</td>\n",
       "      <td>0</td>\n",
       "      <td>0</td>\n",
       "      <td>0</td>\n",
       "      <td>0</td>\n",
       "      <td>0</td>\n",
       "      <td>1</td>\n",
       "      <td>0</td>\n",
       "      <td>0</td>\n",
       "      <td>1</td>\n",
       "    </tr>\n",
       "    <tr>\n",
       "      <th>3</th>\n",
       "      <td>1</td>\n",
       "      <td>1</td>\n",
       "      <td>0</td>\n",
       "      <td>0</td>\n",
       "      <td>0</td>\n",
       "      <td>1</td>\n",
       "      <td>1</td>\n",
       "      <td>0</td>\n",
       "      <td>0</td>\n",
       "      <td>1</td>\n",
       "      <td>0</td>\n",
       "      <td>0</td>\n",
       "      <td>0</td>\n",
       "      <td>0</td>\n",
       "      <td>1</td>\n",
       "      <td>0</td>\n",
       "    </tr>\n",
       "    <tr>\n",
       "      <th>4</th>\n",
       "      <td>3</td>\n",
       "      <td>0</td>\n",
       "      <td>1</td>\n",
       "      <td>0</td>\n",
       "      <td>0</td>\n",
       "      <td>1</td>\n",
       "      <td>1</td>\n",
       "      <td>0</td>\n",
       "      <td>0</td>\n",
       "      <td>0</td>\n",
       "      <td>0</td>\n",
       "      <td>0</td>\n",
       "      <td>1</td>\n",
       "      <td>0</td>\n",
       "      <td>0</td>\n",
       "      <td>1</td>\n",
       "    </tr>\n",
       "  </tbody>\n",
       "</table>\n",
       "</div>"
      ],
      "text/plain": [
       "   Pclass  Sex_female  Sex_male  Embarked_C  Embarked_Q  Embarked_S  \\\n",
       "0       3           0         1           0           0           1   \n",
       "1       1           1         0           1           0           0   \n",
       "2       3           1         0           0           0           1   \n",
       "3       1           1         0           0           0           1   \n",
       "4       3           0         1           0           0           1   \n",
       "\n",
       "   Age_grp_Adult  Age_grp_Old  Age_grp_Young  Fare_grp_High  Fare_grp_Low  \\\n",
       "0              1            0              0              0             1   \n",
       "1              1            0              0              1             0   \n",
       "2              1            0              0              0             0   \n",
       "3              1            0              0              1             0   \n",
       "4              1            0              0              0             0   \n",
       "\n",
       "   Fare_grp_MediumHigh  Fare_grp_MediumLow  Family_grp_Big  Family_grp_Medium  \\\n",
       "0                    0                   0               0                  1   \n",
       "1                    0                   0               0                  1   \n",
       "2                    0                   1               0                  0   \n",
       "3                    0                   0               0                  1   \n",
       "4                    0                   1               0                  0   \n",
       "\n",
       "   Family_grp_Single  \n",
       "0                  0  \n",
       "1                  0  \n",
       "2                  1  \n",
       "3                  0  \n",
       "4                  1  "
      ]
     },
     "execution_count": 48,
     "metadata": {},
     "output_type": "execute_result"
    }
   ],
   "source": [
    "data_model = pd.get_dummies(model_columns, drop_first = False) # Encoding categorical variables\n",
    "data_model.head(5)"
   ]
  },
  {
   "cell_type": "markdown",
   "id": "0b56ac25",
   "metadata": {
    "papermill": {
     "duration": 0.035261,
     "end_time": "2022-09-19T01:15:46.646230",
     "exception": false,
     "start_time": "2022-09-19T01:15:46.610969",
     "status": "completed"
    },
    "tags": []
   },
   "source": [
    "### 6.2 Correlation matrix"
   ]
  },
  {
   "cell_type": "code",
   "execution_count": 49,
   "id": "c09dced4",
   "metadata": {
    "execution": {
     "iopub.execute_input": "2022-09-19T01:15:46.718471Z",
     "iopub.status.busy": "2022-09-19T01:15:46.718043Z",
     "iopub.status.idle": "2022-09-19T01:15:46.740742Z",
     "shell.execute_reply": "2022-09-19T01:15:46.739655Z"
    },
    "papermill": {
     "duration": 0.061555,
     "end_time": "2022-09-19T01:15:46.742992",
     "exception": false,
     "start_time": "2022-09-19T01:15:46.681437",
     "status": "completed"
    },
    "tags": []
   },
   "outputs": [
    {
     "data": {
      "text/html": [
       "<div>\n",
       "<style scoped>\n",
       "    .dataframe tbody tr th:only-of-type {\n",
       "        vertical-align: middle;\n",
       "    }\n",
       "\n",
       "    .dataframe tbody tr th {\n",
       "        vertical-align: top;\n",
       "    }\n",
       "\n",
       "    .dataframe thead th {\n",
       "        text-align: right;\n",
       "    }\n",
       "</style>\n",
       "<table border=\"1\" class=\"dataframe\">\n",
       "  <thead>\n",
       "    <tr style=\"text-align: right;\">\n",
       "      <th></th>\n",
       "      <th>variable_1</th>\n",
       "      <th>variable_2</th>\n",
       "      <th>r</th>\n",
       "      <th>abs_r</th>\n",
       "    </tr>\n",
       "  </thead>\n",
       "  <tbody>\n",
       "    <tr>\n",
       "      <th>33</th>\n",
       "      <td>Sex_male</td>\n",
       "      <td>Sex_female</td>\n",
       "      <td>-1.000000</td>\n",
       "      <td>1.000000</td>\n",
       "    </tr>\n",
       "    <tr>\n",
       "      <th>18</th>\n",
       "      <td>Sex_female</td>\n",
       "      <td>Sex_male</td>\n",
       "      <td>-1.000000</td>\n",
       "      <td>1.000000</td>\n",
       "    </tr>\n",
       "    <tr>\n",
       "      <th>254</th>\n",
       "      <td>Family_grp_Single</td>\n",
       "      <td>Family_grp_Medium</td>\n",
       "      <td>-0.906623</td>\n",
       "      <td>0.906623</td>\n",
       "    </tr>\n",
       "    <tr>\n",
       "      <th>239</th>\n",
       "      <td>Family_grp_Medium</td>\n",
       "      <td>Family_grp_Single</td>\n",
       "      <td>-0.906623</td>\n",
       "      <td>0.906623</td>\n",
       "    </tr>\n",
       "    <tr>\n",
       "      <th>134</th>\n",
       "      <td>Age_grp_Young</td>\n",
       "      <td>Age_grp_Adult</td>\n",
       "      <td>-0.888102</td>\n",
       "      <td>0.888102</td>\n",
       "    </tr>\n",
       "    <tr>\n",
       "      <th>104</th>\n",
       "      <td>Age_grp_Adult</td>\n",
       "      <td>Age_grp_Young</td>\n",
       "      <td>-0.888102</td>\n",
       "      <td>0.888102</td>\n",
       "    </tr>\n",
       "    <tr>\n",
       "      <th>83</th>\n",
       "      <td>Embarked_S</td>\n",
       "      <td>Embarked_C</td>\n",
       "      <td>-0.778262</td>\n",
       "      <td>0.778262</td>\n",
       "    </tr>\n",
       "    <tr>\n",
       "      <th>53</th>\n",
       "      <td>Embarked_C</td>\n",
       "      <td>Embarked_S</td>\n",
       "      <td>-0.778262</td>\n",
       "      <td>0.778262</td>\n",
       "    </tr>\n",
       "    <tr>\n",
       "      <th>9</th>\n",
       "      <td>Pclass</td>\n",
       "      <td>Fare_grp_High</td>\n",
       "      <td>-0.605625</td>\n",
       "      <td>0.605625</td>\n",
       "    </tr>\n",
       "    <tr>\n",
       "      <th>144</th>\n",
       "      <td>Fare_grp_High</td>\n",
       "      <td>Pclass</td>\n",
       "      <td>-0.605625</td>\n",
       "      <td>0.605625</td>\n",
       "    </tr>\n",
       "  </tbody>\n",
       "</table>\n",
       "</div>"
      ],
      "text/plain": [
       "            variable_1         variable_2         r     abs_r\n",
       "33            Sex_male         Sex_female -1.000000  1.000000\n",
       "18          Sex_female           Sex_male -1.000000  1.000000\n",
       "254  Family_grp_Single  Family_grp_Medium -0.906623  0.906623\n",
       "239  Family_grp_Medium  Family_grp_Single -0.906623  0.906623\n",
       "134      Age_grp_Young      Age_grp_Adult -0.888102  0.888102\n",
       "104      Age_grp_Adult      Age_grp_Young -0.888102  0.888102\n",
       "83          Embarked_S         Embarked_C -0.778262  0.778262\n",
       "53          Embarked_C         Embarked_S -0.778262  0.778262\n",
       "9               Pclass      Fare_grp_High -0.605625  0.605625\n",
       "144      Fare_grp_High             Pclass -0.605625  0.605625"
      ]
     },
     "execution_count": 49,
     "metadata": {},
     "output_type": "execute_result"
    }
   ],
   "source": [
    "def tidy_corr_matrix(corr_mat):\n",
    "    '''\n",
    "    Función para convertir una matrix de correlación de pandas en formato tidy\n",
    "    '''\n",
    "    corr_mat = corr_mat.stack().reset_index()\n",
    "    corr_mat.columns = ['variable_1','variable_2','r']\n",
    "    corr_mat = corr_mat.loc[corr_mat['variable_1'] != corr_mat['variable_2'], :]\n",
    "    corr_mat['abs_r'] = np.abs(corr_mat['r'])\n",
    "    corr_mat = corr_mat.sort_values('abs_r', ascending=False)\n",
    "    \n",
    "    return(corr_mat)\n",
    "\n",
    "corr_matrix = data_model.corr(method='pearson')\n",
    "tidy_corr_matrix(corr_matrix).head(10)\n"
   ]
  },
  {
   "cell_type": "code",
   "execution_count": 50,
   "id": "a2151878",
   "metadata": {
    "execution": {
     "iopub.execute_input": "2022-09-19T01:15:46.818609Z",
     "iopub.status.busy": "2022-09-19T01:15:46.818162Z",
     "iopub.status.idle": "2022-09-19T01:15:48.097693Z",
     "shell.execute_reply": "2022-09-19T01:15:48.096793Z"
    },
    "papermill": {
     "duration": 1.3213,
     "end_time": "2022-09-19T01:15:48.102004",
     "exception": false,
     "start_time": "2022-09-19T01:15:46.780704",
     "status": "completed"
    },
    "tags": []
   },
   "outputs": [
    {
     "data": {
      "image/png": "[encoded data removed]",
      "text/plain": [
       "<Figure size 1152x1152 with 1 Axes>"
      ]
     },
     "metadata": {
      "needs_background": "light"
     },
     "output_type": "display_data"
    }
   ],
   "source": [
    "fig, ax = plt.subplots(nrows=1, ncols=1, figsize=(16, 16))\n",
    "\n",
    "sns.heatmap(\n",
    "    corr_matrix,\n",
    "    annot     = True,\n",
    "    cbar      = False,\n",
    "    annot_kws = {\"size\": 12},\n",
    "    vmin      = -1,\n",
    "    vmax      = 1,\n",
    "    center    = 0,\n",
    "    cmap      = sns.diverging_palette(20, 220, n=200),\n",
    "    square    = True,\n",
    "    ax        = ax\n",
    ")\n",
    "ax.set_xticklabels(\n",
    "    ax.get_xticklabels(),\n",
    "    rotation = 45,\n",
    "    horizontalalignment = 'right',\n",
    ")\n",
    "\n",
    "ax.tick_params(labelsize = 12)"
   ]
  },
  {
   "cell_type": "code",
   "execution_count": 51,
   "id": "f771dfc7",
   "metadata": {
    "execution": {
     "iopub.execute_input": "2022-09-19T01:15:48.186299Z",
     "iopub.status.busy": "2022-09-19T01:15:48.185909Z",
     "iopub.status.idle": "2022-09-19T01:15:48.201464Z",
     "shell.execute_reply": "2022-09-19T01:15:48.200289Z"
    },
    "papermill": {
     "duration": 0.059919,
     "end_time": "2022-09-19T01:15:48.203661",
     "exception": false,
     "start_time": "2022-09-19T01:15:48.143742",
     "status": "completed"
    },
    "tags": []
   },
   "outputs": [
    {
     "data": {
      "text/html": [
       "<div>\n",
       "<style scoped>\n",
       "    .dataframe tbody tr th:only-of-type {\n",
       "        vertical-align: middle;\n",
       "    }\n",
       "\n",
       "    .dataframe tbody tr th {\n",
       "        vertical-align: top;\n",
       "    }\n",
       "\n",
       "    .dataframe thead th {\n",
       "        text-align: right;\n",
       "    }\n",
       "</style>\n",
       "<table border=\"1\" class=\"dataframe\">\n",
       "  <thead>\n",
       "    <tr style=\"text-align: right;\">\n",
       "      <th></th>\n",
       "      <th>Pclass</th>\n",
       "      <th>Sex_male</th>\n",
       "      <th>Embarked_C</th>\n",
       "      <th>Embarked_Q</th>\n",
       "      <th>Embarked_S</th>\n",
       "      <th>Age_grp_Adult</th>\n",
       "      <th>Age_grp_Old</th>\n",
       "      <th>Age_grp_Young</th>\n",
       "      <th>Fare_grp_High</th>\n",
       "      <th>Fare_grp_Low</th>\n",
       "      <th>Fare_grp_MediumHigh</th>\n",
       "      <th>Fare_grp_MediumLow</th>\n",
       "      <th>Family_grp_Big</th>\n",
       "      <th>Family_grp_Single</th>\n",
       "    </tr>\n",
       "  </thead>\n",
       "  <tbody>\n",
       "    <tr>\n",
       "      <th>0</th>\n",
       "      <td>3</td>\n",
       "      <td>1</td>\n",
       "      <td>0</td>\n",
       "      <td>0</td>\n",
       "      <td>1</td>\n",
       "      <td>1</td>\n",
       "      <td>0</td>\n",
       "      <td>0</td>\n",
       "      <td>0</td>\n",
       "      <td>1</td>\n",
       "      <td>0</td>\n",
       "      <td>0</td>\n",
       "      <td>0</td>\n",
       "      <td>0</td>\n",
       "    </tr>\n",
       "    <tr>\n",
       "      <th>1</th>\n",
       "      <td>1</td>\n",
       "      <td>0</td>\n",
       "      <td>1</td>\n",
       "      <td>0</td>\n",
       "      <td>0</td>\n",
       "      <td>1</td>\n",
       "      <td>0</td>\n",
       "      <td>0</td>\n",
       "      <td>1</td>\n",
       "      <td>0</td>\n",
       "      <td>0</td>\n",
       "      <td>0</td>\n",
       "      <td>0</td>\n",
       "      <td>0</td>\n",
       "    </tr>\n",
       "    <tr>\n",
       "      <th>2</th>\n",
       "      <td>3</td>\n",
       "      <td>0</td>\n",
       "      <td>0</td>\n",
       "      <td>0</td>\n",
       "      <td>1</td>\n",
       "      <td>1</td>\n",
       "      <td>0</td>\n",
       "      <td>0</td>\n",
       "      <td>0</td>\n",
       "      <td>0</td>\n",
       "      <td>0</td>\n",
       "      <td>1</td>\n",
       "      <td>0</td>\n",
       "      <td>1</td>\n",
       "    </tr>\n",
       "    <tr>\n",
       "      <th>3</th>\n",
       "      <td>1</td>\n",
       "      <td>0</td>\n",
       "      <td>0</td>\n",
       "      <td>0</td>\n",
       "      <td>1</td>\n",
       "      <td>1</td>\n",
       "      <td>0</td>\n",
       "      <td>0</td>\n",
       "      <td>1</td>\n",
       "      <td>0</td>\n",
       "      <td>0</td>\n",
       "      <td>0</td>\n",
       "      <td>0</td>\n",
       "      <td>0</td>\n",
       "    </tr>\n",
       "    <tr>\n",
       "      <th>4</th>\n",
       "      <td>3</td>\n",
       "      <td>1</td>\n",
       "      <td>0</td>\n",
       "      <td>0</td>\n",
       "      <td>1</td>\n",
       "      <td>1</td>\n",
       "      <td>0</td>\n",
       "      <td>0</td>\n",
       "      <td>0</td>\n",
       "      <td>0</td>\n",
       "      <td>0</td>\n",
       "      <td>1</td>\n",
       "      <td>0</td>\n",
       "      <td>1</td>\n",
       "    </tr>\n",
       "  </tbody>\n",
       "</table>\n",
       "</div>"
      ],
      "text/plain": [
       "   Pclass  Sex_male  Embarked_C  Embarked_Q  Embarked_S  Age_grp_Adult  \\\n",
       "0       3         1           0           0           1              1   \n",
       "1       1         0           1           0           0              1   \n",
       "2       3         0           0           0           1              1   \n",
       "3       1         0           0           0           1              1   \n",
       "4       3         1           0           0           1              1   \n",
       "\n",
       "   Age_grp_Old  Age_grp_Young  Fare_grp_High  Fare_grp_Low  \\\n",
       "0            0              0              0             1   \n",
       "1            0              0              1             0   \n",
       "2            0              0              0             0   \n",
       "3            0              0              1             0   \n",
       "4            0              0              0             0   \n",
       "\n",
       "   Fare_grp_MediumHigh  Fare_grp_MediumLow  Family_grp_Big  Family_grp_Single  \n",
       "0                    0                   0               0                  0  \n",
       "1                    0                   0               0                  0  \n",
       "2                    0                   1               0                  1  \n",
       "3                    0                   0               0                  0  \n",
       "4                    0                   1               0                  1  "
      ]
     },
     "execution_count": 51,
     "metadata": {},
     "output_type": "execute_result"
    }
   ],
   "source": [
    "# Droppinbg some unnecesary encoded features correlation above 0.9\n",
    "data_model.drop(['Sex_female', 'Family_grp_Medium'], axis = 1, inplace = True)\n",
    "data_model.head(5)"
   ]
  },
  {
   "cell_type": "code",
   "execution_count": 52,
   "id": "a268cf74",
   "metadata": {
    "execution": {
     "iopub.execute_input": "2022-09-19T01:15:48.288010Z",
     "iopub.status.busy": "2022-09-19T01:15:48.287572Z",
     "iopub.status.idle": "2022-09-19T01:15:48.313637Z",
     "shell.execute_reply": "2022-09-19T01:15:48.312377Z"
    },
    "papermill": {
     "duration": 0.071438,
     "end_time": "2022-09-19T01:15:48.316298",
     "exception": false,
     "start_time": "2022-09-19T01:15:48.244860",
     "status": "completed"
    },
    "tags": []
   },
   "outputs": [
    {
     "data": {
      "text/html": [
       "<div>\n",
       "<style scoped>\n",
       "    .dataframe tbody tr th:only-of-type {\n",
       "        vertical-align: middle;\n",
       "    }\n",
       "\n",
       "    .dataframe tbody tr th {\n",
       "        vertical-align: top;\n",
       "    }\n",
       "\n",
       "    .dataframe thead th {\n",
       "        text-align: right;\n",
       "    }\n",
       "</style>\n",
       "<table border=\"1\" class=\"dataframe\">\n",
       "  <thead>\n",
       "    <tr style=\"text-align: right;\">\n",
       "      <th></th>\n",
       "      <th>Pclass</th>\n",
       "      <th>Sex_male</th>\n",
       "      <th>Embarked_C</th>\n",
       "      <th>Embarked_Q</th>\n",
       "      <th>Embarked_S</th>\n",
       "      <th>Age_grp_Adult</th>\n",
       "      <th>Age_grp_Old</th>\n",
       "      <th>Age_grp_Young</th>\n",
       "      <th>Fare_grp_High</th>\n",
       "      <th>Fare_grp_Low</th>\n",
       "      <th>Fare_grp_MediumHigh</th>\n",
       "      <th>Fare_grp_MediumLow</th>\n",
       "      <th>Family_grp_Big</th>\n",
       "      <th>Family_grp_Single</th>\n",
       "    </tr>\n",
       "  </thead>\n",
       "  <tbody>\n",
       "    <tr>\n",
       "      <th>0</th>\n",
       "      <td>0.841916</td>\n",
       "      <td>0.743497</td>\n",
       "      <td>-0.50977</td>\n",
       "      <td>-0.32204</td>\n",
       "      <td>0.655011</td>\n",
       "      <td>0.456815</td>\n",
       "      <td>-0.179818</td>\n",
       "      <td>-0.405698</td>\n",
       "      <td>-0.573528</td>\n",
       "      <td>1.698315</td>\n",
       "      <td>-0.578232</td>\n",
       "      <td>-0.568823</td>\n",
       "      <td>-0.219177</td>\n",
       "      <td>-1.233758</td>\n",
       "    </tr>\n",
       "    <tr>\n",
       "      <th>1</th>\n",
       "      <td>-1.546098</td>\n",
       "      <td>-1.344995</td>\n",
       "      <td>1.96167</td>\n",
       "      <td>-0.32204</td>\n",
       "      <td>-1.526692</td>\n",
       "      <td>0.456815</td>\n",
       "      <td>-0.179818</td>\n",
       "      <td>-0.405698</td>\n",
       "      <td>1.743595</td>\n",
       "      <td>-0.588819</td>\n",
       "      <td>-0.578232</td>\n",
       "      <td>-0.568823</td>\n",
       "      <td>-0.219177</td>\n",
       "      <td>-1.233758</td>\n",
       "    </tr>\n",
       "    <tr>\n",
       "      <th>2</th>\n",
       "      <td>0.841916</td>\n",
       "      <td>-1.344995</td>\n",
       "      <td>-0.50977</td>\n",
       "      <td>-0.32204</td>\n",
       "      <td>0.655011</td>\n",
       "      <td>0.456815</td>\n",
       "      <td>-0.179818</td>\n",
       "      <td>-0.405698</td>\n",
       "      <td>-0.573528</td>\n",
       "      <td>-0.588819</td>\n",
       "      <td>-0.578232</td>\n",
       "      <td>1.758017</td>\n",
       "      <td>-0.219177</td>\n",
       "      <td>0.810532</td>\n",
       "    </tr>\n",
       "    <tr>\n",
       "      <th>3</th>\n",
       "      <td>-1.546098</td>\n",
       "      <td>-1.344995</td>\n",
       "      <td>-0.50977</td>\n",
       "      <td>-0.32204</td>\n",
       "      <td>0.655011</td>\n",
       "      <td>0.456815</td>\n",
       "      <td>-0.179818</td>\n",
       "      <td>-0.405698</td>\n",
       "      <td>1.743595</td>\n",
       "      <td>-0.588819</td>\n",
       "      <td>-0.578232</td>\n",
       "      <td>-0.568823</td>\n",
       "      <td>-0.219177</td>\n",
       "      <td>-1.233758</td>\n",
       "    </tr>\n",
       "  </tbody>\n",
       "</table>\n",
       "</div>"
      ],
      "text/plain": [
       "     Pclass  Sex_male  Embarked_C  Embarked_Q  Embarked_S  Age_grp_Adult  \\\n",
       "0  0.841916  0.743497    -0.50977    -0.32204    0.655011       0.456815   \n",
       "1 -1.546098 -1.344995     1.96167    -0.32204   -1.526692       0.456815   \n",
       "2  0.841916 -1.344995    -0.50977    -0.32204    0.655011       0.456815   \n",
       "3 -1.546098 -1.344995    -0.50977    -0.32204    0.655011       0.456815   \n",
       "\n",
       "   Age_grp_Old  Age_grp_Young  Fare_grp_High  Fare_grp_Low  \\\n",
       "0    -0.179818      -0.405698      -0.573528      1.698315   \n",
       "1    -0.179818      -0.405698       1.743595     -0.588819   \n",
       "2    -0.179818      -0.405698      -0.573528     -0.588819   \n",
       "3    -0.179818      -0.405698       1.743595     -0.588819   \n",
       "\n",
       "   Fare_grp_MediumHigh  Fare_grp_MediumLow  Family_grp_Big  Family_grp_Single  \n",
       "0            -0.578232           -0.568823       -0.219177          -1.233758  \n",
       "1            -0.578232           -0.568823       -0.219177          -1.233758  \n",
       "2            -0.578232            1.758017       -0.219177           0.810532  \n",
       "3            -0.578232           -0.568823       -0.219177          -1.233758  "
      ]
     },
     "execution_count": 52,
     "metadata": {},
     "output_type": "execute_result"
    }
   ],
   "source": [
    "scaler = StandardScaler()\n",
    "df_std = scaler.fit_transform(data_model)\n",
    "df_std = pd.DataFrame(data = df_std,columns = data_model.columns)\n",
    "df_std.head(4)"
   ]
  },
  {
   "cell_type": "code",
   "execution_count": 53,
   "id": "124145a3",
   "metadata": {
    "execution": {
     "iopub.execute_input": "2022-09-19T01:15:48.399520Z",
     "iopub.status.busy": "2022-09-19T01:15:48.398720Z",
     "iopub.status.idle": "2022-09-19T01:15:48.407343Z",
     "shell.execute_reply": "2022-09-19T01:15:48.406064Z"
    },
    "papermill": {
     "duration": 0.052608,
     "end_time": "2022-09-19T01:15:48.409574",
     "exception": false,
     "start_time": "2022-09-19T01:15:48.356966",
     "status": "completed"
    },
    "tags": []
   },
   "outputs": [
    {
     "data": {
      "text/plain": [
       "0    549\n",
       "1    342\n",
       "Name: Survived, dtype: int64"
      ]
     },
     "execution_count": 53,
     "metadata": {},
     "output_type": "execute_result"
    }
   ],
   "source": [
    "#check the level of umbalece response model\n",
    "dftrain.Survived.value_counts()"
   ]
  },
  {
   "cell_type": "code",
   "execution_count": 54,
   "id": "80f03079",
   "metadata": {
    "execution": {
     "iopub.execute_input": "2022-09-19T01:15:48.493993Z",
     "iopub.status.busy": "2022-09-19T01:15:48.493261Z",
     "iopub.status.idle": "2022-09-19T01:15:48.497625Z",
     "shell.execute_reply": "2022-09-19T01:15:48.496903Z"
    },
    "papermill": {
     "duration": 0.049148,
     "end_time": "2022-09-19T01:15:48.499675",
     "exception": false,
     "start_time": "2022-09-19T01:15:48.450527",
     "status": "completed"
    },
    "tags": []
   },
   "outputs": [],
   "source": [
    "dftrain_final = df_std[:891]\n",
    "dftest_final = df_std[891:]"
   ]
  },
  {
   "cell_type": "markdown",
   "id": "ed178c4a",
   "metadata": {
    "papermill": {
     "duration": 0.041165,
     "end_time": "2022-09-19T01:15:48.582127",
     "exception": false,
     "start_time": "2022-09-19T01:15:48.540962",
     "status": "completed"
    },
    "tags": []
   },
   "source": [
    "# 7. Machine learnig models"
   ]
  },
  {
   "cell_type": "code",
   "execution_count": 55,
   "id": "b2a25506",
   "metadata": {
    "execution": {
     "iopub.execute_input": "2022-09-19T01:15:48.666296Z",
     "iopub.status.busy": "2022-09-19T01:15:48.665555Z",
     "iopub.status.idle": "2022-09-19T01:15:48.671867Z",
     "shell.execute_reply": "2022-09-19T01:15:48.670871Z"
    },
    "papermill": {
     "duration": 0.050989,
     "end_time": "2022-09-19T01:15:48.673959",
     "exception": false,
     "start_time": "2022-09-19T01:15:48.622970",
     "status": "completed"
    },
    "tags": []
   },
   "outputs": [],
   "source": [
    "y_train = dftrain.Survived\n",
    "X_train, X_test, y_train, y_test = train_test_split(dftrain_final, y_train, test_size = 0.20, random_state = 42)"
   ]
  },
  {
   "cell_type": "markdown",
   "id": "ce51f465",
   "metadata": {
    "papermill": {
     "duration": 0.040938,
     "end_time": "2022-09-19T01:15:48.755423",
     "exception": false,
     "start_time": "2022-09-19T01:15:48.714485",
     "status": "completed"
    },
    "tags": []
   },
   "source": [
    "### 7.1. LogisticRegression"
   ]
  },
  {
   "cell_type": "code",
   "execution_count": 56,
   "id": "f3b235ab",
   "metadata": {
    "execution": {
     "iopub.execute_input": "2022-09-19T01:15:48.839802Z",
     "iopub.status.busy": "2022-09-19T01:15:48.839026Z",
     "iopub.status.idle": "2022-09-19T01:15:48.888679Z",
     "shell.execute_reply": "2022-09-19T01:15:48.887262Z"
    },
    "papermill": {
     "duration": 0.097607,
     "end_time": "2022-09-19T01:15:48.894079",
     "exception": false,
     "start_time": "2022-09-19T01:15:48.796472",
     "status": "completed"
    },
    "tags": []
   },
   "outputs": [
    {
     "name": "stdout",
     "output_type": "stream",
     "text": [
      "log_loss: 8.104168713573817\n",
      "AUC - Test Set: 0.870913770913771\n",
      "Training Accuracy of Logistic Regression is 0.7963483146067416\n",
      "Test Accuracy of Logistic Regression is 0.7653631284916201\n",
      "Confusion Matrix : \n",
      " [[83 22]\n",
      " [20 54]]\n",
      "Classification Report : \n",
      "               precision    recall  f1-score   support\n",
      "\n",
      "           0       0.81      0.79      0.80       105\n",
      "           1       0.71      0.73      0.72        74\n",
      "\n",
      "    accuracy                           0.77       179\n",
      "   macro avg       0.76      0.76      0.76       179\n",
      "weighted avg       0.77      0.77      0.77       179\n",
      "\n"
     ]
    }
   ],
   "source": [
    "lr = LogisticRegression()\n",
    "lr.fit(X_train, y_train)\n",
    "\n",
    "lr_acc = accuracy_score(y_test, lr.predict(X_test)) \n",
    "lr_auc = roc_auc_score(y_test, lr.predict_proba(X_test)[:, 1])\n",
    "lr_log = log_loss(y_test,lr.predict(X_test))\n",
    "\n",
    "print(f\"log_loss: {lr_log}\")\n",
    "print(f\"AUC - Test Set: {lr_auc}\")\n",
    "print(f\"Training Accuracy of Logistic Regression is {accuracy_score(y_train, lr.predict(X_train))}\")\n",
    "print(f\"Test Accuracy of Logistic Regression is {lr_acc}\")\n",
    "\n",
    "print(f\"Confusion Matrix : \\n {confusion_matrix(y_test, lr.predict(X_test))}\")\n",
    "print(f\"Classification Report : \\n {classification_report(y_test, lr.predict(X_test))}\")"
   ]
  },
  {
   "cell_type": "markdown",
   "id": "8979aafc",
   "metadata": {
    "papermill": {
     "duration": 0.040216,
     "end_time": "2022-09-19T01:15:49.033502",
     "exception": false,
     "start_time": "2022-09-19T01:15:48.993286",
     "status": "completed"
    },
    "tags": []
   },
   "source": [
    "### 7.2. DecisionTreeClassifier"
   ]
  },
  {
   "cell_type": "code",
   "execution_count": 57,
   "id": "4c22ba2d",
   "metadata": {
    "execution": {
     "iopub.execute_input": "2022-09-19T01:15:49.116935Z",
     "iopub.status.busy": "2022-09-19T01:15:49.116526Z",
     "iopub.status.idle": "2022-09-19T01:15:49.144058Z",
     "shell.execute_reply": "2022-09-19T01:15:49.142670Z"
    },
    "papermill": {
     "duration": 0.071978,
     "end_time": "2022-09-19T01:15:49.146521",
     "exception": false,
     "start_time": "2022-09-19T01:15:49.074543",
     "status": "completed"
    },
    "tags": []
   },
   "outputs": [
    {
     "name": "stdout",
     "output_type": "stream",
     "text": [
      "log_loss: 7.332312278062562\n",
      "AUC - Test Set: 0.8762548262548262\n",
      "Training Accuracy of Decision Tree Classifier is 0.8539325842696629\n",
      "Test Accuracy of Decision Tree Classifier is 0.7877094972067039 \n",
      "\n",
      "Confusion Matrix : \n",
      "[[92 13]\n",
      " [25 49]]\n",
      "\n",
      "Classification Report : \n",
      "               precision    recall  f1-score   support\n",
      "\n",
      "           0       0.79      0.88      0.83       105\n",
      "           1       0.79      0.66      0.72        74\n",
      "\n",
      "    accuracy                           0.79       179\n",
      "   macro avg       0.79      0.77      0.77       179\n",
      "weighted avg       0.79      0.79      0.78       179\n",
      "\n"
     ]
    }
   ],
   "source": [
    "dtc = DecisionTreeClassifier()\n",
    "dtc.fit(X_train, y_train)\n",
    "\n",
    "dtc_acc = accuracy_score(y_test, dtc.predict(X_test))\n",
    "dtc_auc = roc_auc_score(y_test, dtc.predict_proba(X_test)[:, 1])\n",
    "dtc_log = log_loss(y_test,dtc.predict(X_test))\n",
    "\n",
    "print(f\"log_loss: {dtc_log}\")\n",
    "print(f\"AUC - Test Set: {dtc_auc}\")\n",
    "print(f\"Training Accuracy of Decision Tree Classifier is {accuracy_score(y_train, dtc.predict(X_train))}\")\n",
    "print(f\"Test Accuracy of Decision Tree Classifier is {dtc_acc} \\n\")\n",
    "\n",
    "print(f\"Confusion Matrix : \\n{confusion_matrix(y_test, dtc.predict(X_test))}\\n\")\n",
    "print(f\"Classification Report : \\n {classification_report(y_test, dtc.predict(X_test))}\")"
   ]
  },
  {
   "cell_type": "markdown",
   "id": "89088da6",
   "metadata": {
    "papermill": {
     "duration": 0.040576,
     "end_time": "2022-09-19T01:15:49.227738",
     "exception": false,
     "start_time": "2022-09-19T01:15:49.187162",
     "status": "completed"
    },
    "tags": []
   },
   "source": [
    "### 7.3. RandomForestClassifier"
   ]
  },
  {
   "cell_type": "code",
   "execution_count": 58,
   "id": "a8ffac5e",
   "metadata": {
    "execution": {
     "iopub.execute_input": "2022-09-19T01:15:49.312127Z",
     "iopub.status.busy": "2022-09-19T01:15:49.311270Z",
     "iopub.status.idle": "2022-09-19T01:15:49.607906Z",
     "shell.execute_reply": "2022-09-19T01:15:49.606356Z"
    },
    "papermill": {
     "duration": 0.342191,
     "end_time": "2022-09-19T01:15:49.610591",
     "exception": false,
     "start_time": "2022-09-19T01:15:49.268400",
     "status": "completed"
    },
    "tags": []
   },
   "outputs": [
    {
     "name": "stdout",
     "output_type": "stream",
     "text": [
      "log_loss: 7.139362687015184\n",
      "AUC - Test Set: 0.8826254826254825\n",
      "Training Accuracy of Random Forest Classifier is 0.8539325842696629\n",
      "Test Accuracy of Random Forest Classifier is 0.7932960893854749 \n",
      "\n",
      "Confusion Matrix : \n",
      "[[91 14]\n",
      " [23 51]]\n",
      "\n",
      "Classification Report : \n",
      "               precision    recall  f1-score   support\n",
      "\n",
      "           0       0.80      0.87      0.83       105\n",
      "           1       0.78      0.69      0.73        74\n",
      "\n",
      "    accuracy                           0.79       179\n",
      "   macro avg       0.79      0.78      0.78       179\n",
      "weighted avg       0.79      0.79      0.79       179\n",
      "\n"
     ]
    }
   ],
   "source": [
    "rd_clf = RandomForestClassifier()\n",
    "rd_clf.fit(X_train, y_train)\n",
    "\n",
    "rd_clf_acc = accuracy_score(y_test, rd_clf.predict(X_test))\n",
    "rd_clf_auc = roc_auc_score(y_test, rd_clf.predict_proba(X_test)[:, 1])\n",
    "rd_clf_log = log_loss(y_test,rd_clf.predict(X_test))\n",
    "\n",
    "print(f\"log_loss: {rd_clf_log}\")\n",
    "print(f\"AUC - Test Set: {rd_clf_auc}\")\n",
    "print(f\"Training Accuracy of Random Forest Classifier is {accuracy_score(y_train, rd_clf.predict(X_train))}\")\n",
    "print(f\"Test Accuracy of Random Forest Classifier is {rd_clf_acc} \\n\")\n",
    "\n",
    "print(f\"Confusion Matrix : \\n{confusion_matrix(y_test, rd_clf.predict(X_test))}\\n\")\n",
    "print(f\"Classification Report : \\n {classification_report(y_test, rd_clf.predict(X_test))}\")"
   ]
  },
  {
   "cell_type": "markdown",
   "id": "bc34cf12",
   "metadata": {
    "papermill": {
     "duration": 0.040864,
     "end_time": "2022-09-19T01:15:49.692770",
     "exception": false,
     "start_time": "2022-09-19T01:15:49.651906",
     "status": "completed"
    },
    "tags": []
   },
   "source": [
    "### 7.4. GradientBoostingClassifier"
   ]
  },
  {
   "cell_type": "code",
   "execution_count": 59,
   "id": "a395aaca",
   "metadata": {
    "execution": {
     "iopub.execute_input": "2022-09-19T01:15:49.777325Z",
     "iopub.status.busy": "2022-09-19T01:15:49.776903Z",
     "iopub.status.idle": "2022-09-19T01:15:49.902053Z",
     "shell.execute_reply": "2022-09-19T01:15:49.900368Z"
    },
    "papermill": {
     "duration": 0.170438,
     "end_time": "2022-09-19T01:15:49.904638",
     "exception": false,
     "start_time": "2022-09-19T01:15:49.734200",
     "status": "completed"
    },
    "tags": []
   },
   "outputs": [
    {
     "name": "stdout",
     "output_type": "stream",
     "text": [
      "log_loss: 7.33232121211206\n",
      "AUC - Test Set: 0.88005148005148\n",
      "Training Accuracy of Gradient Boosting Classifier is 0.8412921348314607\n",
      "Test Accuracy of Gradient Boosting Classifier is 0.7877094972067039 \n",
      "\n",
      "Confusion Matrix : \n",
      "[[90 15]\n",
      " [23 51]]\n",
      "\n",
      "Classification Report : \n",
      "               precision    recall  f1-score   support\n",
      "\n",
      "           0       0.80      0.86      0.83       105\n",
      "           1       0.77      0.69      0.73        74\n",
      "\n",
      "    accuracy                           0.79       179\n",
      "   macro avg       0.78      0.77      0.78       179\n",
      "weighted avg       0.79      0.79      0.79       179\n",
      "\n"
     ]
    }
   ],
   "source": [
    "gb = GradientBoostingClassifier() #\n",
    "gb.fit(X_train, y_train)\n",
    "\n",
    "gb_acc = accuracy_score(y_test, gb.predict(X_test))\n",
    "gb_auc = roc_auc_score(y_test, gb.predict_proba(X_test)[:, 1])\n",
    "gb_log = log_loss(y_test,gb.predict(X_test))\n",
    "\n",
    "print(f\"log_loss: {gb_log}\")\n",
    "print(f\"AUC - Test Set: {gb_auc}\")\n",
    "print(f\"Training Accuracy of Gradient Boosting Classifier is {accuracy_score(y_train, gb.predict(X_train))}\")\n",
    "print(f\"Test Accuracy of Gradient Boosting Classifier is {gb_acc} \\n\")\n",
    "\n",
    "print(f\"Confusion Matrix : \\n{confusion_matrix(y_test, gb.predict(X_test))}\\n\")\n",
    "print(f\"Classification Report : \\n {classification_report(y_test, gb.predict(X_test))}\")"
   ]
  },
  {
   "cell_type": "markdown",
   "id": "dddfe25e",
   "metadata": {
    "papermill": {
     "duration": 0.041379,
     "end_time": "2022-09-19T01:15:49.988019",
     "exception": false,
     "start_time": "2022-09-19T01:15:49.946640",
     "status": "completed"
    },
    "tags": []
   },
   "source": [
    "### 7.5. XGBClassifier"
   ]
  },
  {
   "cell_type": "code",
   "execution_count": 60,
   "id": "82c50231",
   "metadata": {
    "execution": {
     "iopub.execute_input": "2022-09-19T01:15:50.142499Z",
     "iopub.status.busy": "2022-09-19T01:15:50.142100Z",
     "iopub.status.idle": "2022-09-19T01:15:50.696229Z",
     "shell.execute_reply": "2022-09-19T01:15:50.694272Z"
    },
    "papermill": {
     "duration": 0.599666,
     "end_time": "2022-09-19T01:15:50.698807",
     "exception": false,
     "start_time": "2022-09-19T01:15:50.099141",
     "status": "completed"
    },
    "tags": []
   },
   "outputs": [
    {
     "name": "stdout",
     "output_type": "stream",
     "text": [
      "log_loss: 7.525270803159437\n",
      "AUC - Test Set: 0.8855855855855856\n",
      "Training Accuracy of XgBoost is 0.8539325842696629\n",
      "Test Accuracy of XgBoost is 0.7821229050279329 \n",
      "\n",
      "Confusion Matrix : \n",
      "[[91 14]\n",
      " [25 49]]\n",
      "\n",
      "Classification Report : \n",
      "               precision    recall  f1-score   support\n",
      "\n",
      "           0       0.78      0.87      0.82       105\n",
      "           1       0.78      0.66      0.72        74\n",
      "\n",
      "    accuracy                           0.78       179\n",
      "   macro avg       0.78      0.76      0.77       179\n",
      "weighted avg       0.78      0.78      0.78       179\n",
      "\n"
     ]
    }
   ],
   "source": [
    "xgb = XGBClassifier(booster = 'gbtree', learning_rate = 0.1, max_depth = 5, n_estimators = 180)\n",
    "xgb.fit(X_train, y_train)\n",
    "\n",
    "xgb_acc = accuracy_score(y_test, xgb.predict(X_test))\n",
    "xgb_auc = roc_auc_score(y_test, xgb.predict_proba(X_test)[:, 1])\n",
    "xgb_log = log_loss(y_test,xgb.predict(X_test))\n",
    "\n",
    "print(f\"log_loss: {xgb_log}\")\n",
    "print(f\"AUC - Test Set: {xgb_auc}\")\n",
    "print(f\"Training Accuracy of XgBoost is {accuracy_score(y_train, xgb.predict(X_train))}\")\n",
    "print(f\"Test Accuracy of XgBoost is {xgb_acc} \\n\")\n",
    "\n",
    "print(f\"Confusion Matrix : \\n{confusion_matrix(y_test, xgb.predict(X_test))}\\n\")\n",
    "print(f\"Classification Report : \\n {classification_report(y_test, xgb.predict(X_test))}\")"
   ]
  },
  {
   "cell_type": "markdown",
   "id": "6c93b102",
   "metadata": {
    "papermill": {
     "duration": 0.04067,
     "end_time": "2022-09-19T01:15:50.781567",
     "exception": false,
     "start_time": "2022-09-19T01:15:50.740897",
     "status": "completed"
    },
    "tags": []
   },
   "source": [
    "### 7.6. Support Vector Machine"
   ]
  },
  {
   "cell_type": "code",
   "execution_count": 61,
   "id": "a8d9df74",
   "metadata": {
    "execution": {
     "iopub.execute_input": "2022-09-19T01:15:50.867657Z",
     "iopub.status.busy": "2022-09-19T01:15:50.866266Z",
     "iopub.status.idle": "2022-09-19T01:15:51.015027Z",
     "shell.execute_reply": "2022-09-19T01:15:51.013672Z"
    },
    "papermill": {
     "duration": 0.195521,
     "end_time": "2022-09-19T01:15:51.018951",
     "exception": false,
     "start_time": "2022-09-19T01:15:50.823430",
     "status": "completed"
    },
    "tags": []
   },
   "outputs": [
    {
     "name": "stdout",
     "output_type": "stream",
     "text": [
      "log_loss: 7.139376088089435\n",
      "AUC - Test Set: 0.8023166023166023\n",
      "Training Accuracy of Support Vector Machines is 0.8286516853932584\n",
      "Test Accuracy of Support Vector Machines is 0.7932960893854749 \n",
      "\n",
      "Confusion Matrix : \n",
      "[[88 17]\n",
      " [20 54]]\n",
      "\n",
      "Classification Report : \n",
      "               precision    recall  f1-score   support\n",
      "\n",
      "           0       0.81      0.84      0.83       105\n",
      "           1       0.76      0.73      0.74        74\n",
      "\n",
      "    accuracy                           0.79       179\n",
      "   macro avg       0.79      0.78      0.79       179\n",
      "weighted avg       0.79      0.79      0.79       179\n",
      "\n"
     ]
    }
   ],
   "source": [
    "svc = SVC(probability=True)\n",
    "svc.fit(X_train, y_train)\n",
    "\n",
    "svc_acc = accuracy_score(y_test, svc.predict(X_test))\n",
    "svc_auc = roc_auc_score(y_test, svc.predict_proba(X_test)[:, 1])\n",
    "svc_log = log_loss(y_test,svc.predict(X_test))\n",
    "\n",
    "print(f\"log_loss: {svc_log}\")\n",
    "print(f\"AUC - Test Set: {svc_auc}\")\n",
    "print(f\"Training Accuracy of Support Vector Machines is {accuracy_score(y_train, svc.predict(X_train))}\")\n",
    "print(f\"Test Accuracy of Support Vector Machines is {svc_acc} \\n\")\n",
    "\n",
    "print(f\"Confusion Matrix : \\n{confusion_matrix(y_test, svc.predict(X_test))}\\n\")\n",
    "print(f\"Classification Report : \\n {classification_report(y_test, svc.predict(X_test))}\")"
   ]
  },
  {
   "cell_type": "markdown",
   "id": "0cfff267",
   "metadata": {
    "papermill": {
     "duration": 0.041128,
     "end_time": "2022-09-19T01:15:51.102209",
     "exception": false,
     "start_time": "2022-09-19T01:15:51.061081",
     "status": "completed"
    },
    "tags": []
   },
   "source": [
    "### 7.7. KNeighborsClassifier"
   ]
  },
  {
   "cell_type": "code",
   "execution_count": 62,
   "id": "cfe247e6",
   "metadata": {
    "execution": {
     "iopub.execute_input": "2022-09-19T01:15:51.187318Z",
     "iopub.status.busy": "2022-09-19T01:15:51.186082Z",
     "iopub.status.idle": "2022-09-19T01:15:51.279760Z",
     "shell.execute_reply": "2022-09-19T01:15:51.277820Z"
    },
    "papermill": {
     "duration": 0.139182,
     "end_time": "2022-09-19T01:15:51.282417",
     "exception": false,
     "start_time": "2022-09-19T01:15:51.143235",
     "status": "completed"
    },
    "tags": []
   },
   "outputs": [
    {
     "name": "stdout",
     "output_type": "stream",
     "text": [
      "log_loss: 7.525279737208937\n",
      "AUC - Test Set: 0.8343629343629343\n",
      "Training Accuracy of KNeighbors is 0.8300561797752809\n",
      "Test Accuracy of KNeighbors is 0.7821229050279329 \n",
      "\n",
      "Confusion Matrix : \n",
      "[[89 16]\n",
      " [23 51]]\n",
      "\n",
      "Classification Report : \n",
      "               precision    recall  f1-score   support\n",
      "\n",
      "           0       0.79      0.85      0.82       105\n",
      "           1       0.76      0.69      0.72        74\n",
      "\n",
      "    accuracy                           0.78       179\n",
      "   macro avg       0.78      0.77      0.77       179\n",
      "weighted avg       0.78      0.78      0.78       179\n",
      "\n"
     ]
    }
   ],
   "source": [
    "knn = KNeighborsClassifier(n_neighbors = 3)\n",
    "knn.fit(X_train, y_train)\n",
    "\n",
    "knn_acc = accuracy_score(y_test, knn.predict(X_test))\n",
    "knn_auc = roc_auc_score(y_test, knn.predict_proba(X_test)[:, 1])\n",
    "knn_log = log_loss(y_test,knn.predict(X_test))\n",
    "\n",
    "print(f\"log_loss: {knn_log}\")\n",
    "print(f\"AUC - Test Set: {knn_auc}\")\n",
    "print(f\"Training Accuracy of KNeighbors is {accuracy_score(y_train, knn.predict(X_train))}\")\n",
    "print(f\"Test Accuracy of KNeighbors is {knn_acc} \\n\")\n",
    "\n",
    "print(f\"Confusion Matrix : \\n{confusion_matrix(y_test, knn.predict(X_test))}\\n\")\n",
    "print(f\"Classification Report : \\n {classification_report(y_test, knn.predict(X_test))}\")\n"
   ]
  },
  {
   "cell_type": "markdown",
   "id": "b553736d",
   "metadata": {
    "papermill": {
     "duration": 0.041497,
     "end_time": "2022-09-19T01:15:51.366424",
     "exception": false,
     "start_time": "2022-09-19T01:15:51.324927",
     "status": "completed"
    },
    "tags": []
   },
   "source": [
    "### 7.8. CatBoostClassifier"
   ]
  },
  {
   "cell_type": "code",
   "execution_count": 63,
   "id": "895e2132",
   "metadata": {
    "execution": {
     "iopub.execute_input": "2022-09-19T01:15:51.451640Z",
     "iopub.status.busy": "2022-09-19T01:15:51.451202Z",
     "iopub.status.idle": "2022-09-19T01:15:51.775508Z",
     "shell.execute_reply": "2022-09-19T01:15:51.773893Z"
    },
    "papermill": {
     "duration": 0.370372,
     "end_time": "2022-09-19T01:15:51.778103",
     "exception": false,
     "start_time": "2022-09-19T01:15:51.407731",
     "status": "completed"
    },
    "tags": []
   },
   "outputs": [
    {
     "name": "stdout",
     "output_type": "stream",
     "text": [
      "log_loss: 6.753445636821431\n",
      "AUC - Test Set: 0.8891891891891892\n",
      "Training Accuracy of CatBoost is 0.848314606741573\n",
      "Test Accuracy of CatBoost is 0.8044692737430168 \n",
      "\n",
      "Confusion Matrix : \n",
      "[[93 12]\n",
      " [23 51]]\n",
      "\n",
      "Classification Report : \n",
      "               precision    recall  f1-score   support\n",
      "\n",
      "           0       0.80      0.89      0.84       105\n",
      "           1       0.81      0.69      0.74        74\n",
      "\n",
      "    accuracy                           0.80       179\n",
      "   macro avg       0.81      0.79      0.79       179\n",
      "weighted avg       0.80      0.80      0.80       179\n",
      "\n"
     ]
    }
   ],
   "source": [
    "cb = CatBoostClassifier( learning_rate = 0.1, max_depth = 5, n_estimators = 180, verbose=False)\n",
    "cb.fit(X_train, y_train)\n",
    "\n",
    "cb_acc = accuracy_score(y_test, cb.predict(X_test))\n",
    "cb_auc = roc_auc_score(y_test, cb.predict_proba(X_test)[:, 1])\n",
    "cb_log = log_loss(y_test,cb.predict(X_test))\n",
    "\n",
    "print(f\"log_loss: {cb_log}\")\n",
    "print(f\"AUC - Test Set: {cb_auc}\")\n",
    "print(f\"Training Accuracy of CatBoost is {accuracy_score(y_train, cb.predict(X_train))}\")\n",
    "print(f\"Test Accuracy of CatBoost is {cb_acc} \\n\")\n",
    "\n",
    "print(f\"Confusion Matrix : \\n{confusion_matrix(y_test, cb.predict(X_test))}\\n\")\n",
    "print(f\"Classification Report : \\n {classification_report(y_test, cb.predict(X_test))}\")"
   ]
  },
  {
   "cell_type": "markdown",
   "id": "acbefc81",
   "metadata": {
    "papermill": {
     "duration": 0.041274,
     "end_time": "2022-09-19T01:15:51.861166",
     "exception": false,
     "start_time": "2022-09-19T01:15:51.819892",
     "status": "completed"
    },
    "tags": []
   },
   "source": [
    "# 8. Compare models"
   ]
  },
  {
   "cell_type": "markdown",
   "id": "77bb12ad",
   "metadata": {
    "papermill": {
     "duration": 0.041155,
     "end_time": "2022-09-19T01:15:51.944980",
     "exception": false,
     "start_time": "2022-09-19T01:15:51.903825",
     "status": "completed"
    },
    "tags": []
   },
   "source": [
    "### 8.1 Analyze model metrics"
   ]
  },
  {
   "cell_type": "code",
   "execution_count": 64,
   "id": "c4c04299",
   "metadata": {
    "execution": {
     "iopub.execute_input": "2022-09-19T01:15:52.032793Z",
     "iopub.status.busy": "2022-09-19T01:15:52.032348Z",
     "iopub.status.idle": "2022-09-19T01:15:52.053745Z",
     "shell.execute_reply": "2022-09-19T01:15:52.052512Z"
    },
    "papermill": {
     "duration": 0.068789,
     "end_time": "2022-09-19T01:15:52.055979",
     "exception": false,
     "start_time": "2022-09-19T01:15:51.987190",
     "status": "completed"
    },
    "tags": []
   },
   "outputs": [
    {
     "data": {
      "text/html": [
       "<div>\n",
       "<style scoped>\n",
       "    .dataframe tbody tr th:only-of-type {\n",
       "        vertical-align: middle;\n",
       "    }\n",
       "\n",
       "    .dataframe tbody tr th {\n",
       "        vertical-align: top;\n",
       "    }\n",
       "\n",
       "    .dataframe thead th {\n",
       "        text-align: right;\n",
       "    }\n",
       "</style>\n",
       "<table border=\"1\" class=\"dataframe\">\n",
       "  <thead>\n",
       "    <tr style=\"text-align: right;\">\n",
       "      <th></th>\n",
       "      <th>Model</th>\n",
       "      <th>Score</th>\n",
       "      <th>AUC</th>\n",
       "      <th>log_loss</th>\n",
       "    </tr>\n",
       "  </thead>\n",
       "  <tbody>\n",
       "    <tr>\n",
       "      <th>7</th>\n",
       "      <td>CatBoost</td>\n",
       "      <td>80.45</td>\n",
       "      <td>88.92</td>\n",
       "      <td>6.75</td>\n",
       "    </tr>\n",
       "    <tr>\n",
       "      <th>4</th>\n",
       "      <td>XgBoost</td>\n",
       "      <td>78.21</td>\n",
       "      <td>88.56</td>\n",
       "      <td>7.53</td>\n",
       "    </tr>\n",
       "    <tr>\n",
       "      <th>2</th>\n",
       "      <td>Random Forest Classifier</td>\n",
       "      <td>79.33</td>\n",
       "      <td>88.26</td>\n",
       "      <td>7.14</td>\n",
       "    </tr>\n",
       "    <tr>\n",
       "      <th>3</th>\n",
       "      <td>Gradient Boosting Classifier</td>\n",
       "      <td>78.77</td>\n",
       "      <td>88.01</td>\n",
       "      <td>7.33</td>\n",
       "    </tr>\n",
       "    <tr>\n",
       "      <th>1</th>\n",
       "      <td>Decision Tree Classifier</td>\n",
       "      <td>78.77</td>\n",
       "      <td>87.63</td>\n",
       "      <td>7.33</td>\n",
       "    </tr>\n",
       "    <tr>\n",
       "      <th>0</th>\n",
       "      <td>Logistic Regression</td>\n",
       "      <td>76.54</td>\n",
       "      <td>87.09</td>\n",
       "      <td>8.10</td>\n",
       "    </tr>\n",
       "    <tr>\n",
       "      <th>6</th>\n",
       "      <td>KNeighbors</td>\n",
       "      <td>78.21</td>\n",
       "      <td>83.44</td>\n",
       "      <td>7.53</td>\n",
       "    </tr>\n",
       "    <tr>\n",
       "      <th>5</th>\n",
       "      <td>SVC</td>\n",
       "      <td>79.33</td>\n",
       "      <td>80.23</td>\n",
       "      <td>7.14</td>\n",
       "    </tr>\n",
       "  </tbody>\n",
       "</table>\n",
       "</div>"
      ],
      "text/plain": [
       "                          Model  Score    AUC  log_loss\n",
       "7                      CatBoost  80.45  88.92      6.75\n",
       "4                       XgBoost  78.21  88.56      7.53\n",
       "2      Random Forest Classifier  79.33  88.26      7.14\n",
       "3  Gradient Boosting Classifier  78.77  88.01      7.33\n",
       "1      Decision Tree Classifier  78.77  87.63      7.33\n",
       "0           Logistic Regression  76.54  87.09      8.10\n",
       "6                    KNeighbors  78.21  83.44      7.53\n",
       "5                           SVC  79.33  80.23      7.14"
      ]
     },
     "execution_count": 64,
     "metadata": {},
     "output_type": "execute_result"
    }
   ],
   "source": [
    "models = pd.DataFrame({\n",
    "    'Model' : ['Logistic Regression', 'Decision Tree Classifier', 'Random Forest Classifier',\n",
    "             'Gradient Boosting Classifier', 'XgBoost','SVC','KNeighbors', 'CatBoost'],\n",
    "    'Score' : [lr_acc, dtc_acc, rd_clf_acc, gb_acc, xgb_acc,svc_acc,knn_acc,cb_acc],\n",
    "    'AUC' : [lr_auc, dtc_auc, rd_clf_auc, gb_auc, xgb_auc,svc_auc,knn_auc,cb_auc],\n",
    "    'log_loss' : [lr_log, dtc_log, rd_clf_log, gb_log, xgb_log,svc_log,knn_log,cb_log]\n",
    "})\n",
    "\n",
    "models[\"Score\"] = (models[\"Score\"] * 100).round(2)\n",
    "models[\"AUC\"] = (models[\"AUC\"] * 100).round(2)\n",
    "models[\"log_loss\"] = (models[\"log_loss\"]).round(2)\n",
    "\n",
    "models.sort_values(by = ['AUC', 'Score','log_loss'], ascending = False)"
   ]
  },
  {
   "cell_type": "markdown",
   "id": "97cc4197",
   "metadata": {
    "papermill": {
     "duration": 0.041392,
     "end_time": "2022-09-19T01:15:52.139391",
     "exception": false,
     "start_time": "2022-09-19T01:15:52.097999",
     "status": "completed"
    },
    "tags": []
   },
   "source": [
    "### 8.2 Submission answer"
   ]
  },
  {
   "cell_type": "code",
   "execution_count": 65,
   "id": "c04ebe1e",
   "metadata": {
    "execution": {
     "iopub.execute_input": "2022-09-19T01:15:52.224119Z",
     "iopub.status.busy": "2022-09-19T01:15:52.223725Z",
     "iopub.status.idle": "2022-09-19T01:15:52.242571Z",
     "shell.execute_reply": "2022-09-19T01:15:52.241756Z"
    },
    "papermill": {
     "duration": 0.064237,
     "end_time": "2022-09-19T01:15:52.245021",
     "exception": false,
     "start_time": "2022-09-19T01:15:52.180784",
     "status": "completed"
    },
    "tags": []
   },
   "outputs": [],
   "source": [
    "# select the best model found\n",
    "gb_prediction = gb.predict(dftest_final) \n",
    "prediction = pd.DataFrame(gb_prediction)\n",
    "submission = pd.read_csv('../input/titanic/gender_submission.csv')\n",
    "submission['Survived'] = prediction\n",
    "submission.to_csv('Submission.csv', index = False)"
   ]
  },
  {
   "cell_type": "code",
   "execution_count": 66,
   "id": "014d182c",
   "metadata": {
    "execution": {
     "iopub.execute_input": "2022-09-19T01:15:52.330696Z",
     "iopub.status.busy": "2022-09-19T01:15:52.329918Z",
     "iopub.status.idle": "2022-09-19T01:15:52.339104Z",
     "shell.execute_reply": "2022-09-19T01:15:52.337936Z"
    },
    "papermill": {
     "duration": 0.054583,
     "end_time": "2022-09-19T01:15:52.341456",
     "exception": false,
     "start_time": "2022-09-19T01:15:52.286873",
     "status": "completed"
    },
    "tags": []
   },
   "outputs": [
    {
     "data": {
      "text/html": [
       "\n",
       "<style>\n",
       ".output_png {\n",
       "    display: table-cell;\n",
       "    text-align: left;\n",
       "    vertical-align: middle;\n",
       "    horizontal-align: middle;\n",
       "}\n",
       "h1,h2 {\n",
       "    text-align: left;\n",
       "    background-color: skyblue;\n",
       "    padding: 20px;\n",
       "    margin: 0;\n",
       "    color: black;\n",
       "    font-family: \"Lucida Console\";\n",
       "    border-radius: 0px\n",
       "}\n",
       "\n",
       "h3 {\n",
       "    text-align: left;\n",
       "    border-style: solid;\n",
       "    border-width: 3px;\n",
       "    padding: 12px;\n",
       "    margin: 0;\n",
       "    color: black;\n",
       "    font-family: \"Lucida Console\";\n",
       "    border-radius: 0px;\n",
       "    border-color: gold;\n",
       "}\n",
       "\n",
       "body, p {\n",
       "    font-family: \"Lucida Console\";\n",
       "    font-size: 15px;\n",
       "    color: charcoal;\n",
       "}\n",
       "div {\n",
       "    font-size: 14px;\n",
       "    margin: 0;\n",
       "\n",
       "}\n",
       "\n",
       "h4 {\n",
       "    padding: 0px;\n",
       "    margin: 0;\n",
       "    font-family: \"Lucida Console\";\n",
       "    color: purple;\n",
       "}\n",
       "</style>\n"
      ],
      "text/plain": [
       "<IPython.core.display.HTML object>"
      ]
     },
     "execution_count": 66,
     "metadata": {},
     "output_type": "execute_result"
    }
   ],
   "source": [
    "from IPython.core.display import HTML\n",
    "HTML(\"\"\"\n",
    "<style>\n",
    ".output_png {\n",
    "    display: table-cell;\n",
    "    text-align: left;\n",
    "    vertical-align: middle;\n",
    "    horizontal-align: middle;\n",
    "}\n",
    "h1,h2 {\n",
    "    text-align: left;\n",
    "    background-color: skyblue;\n",
    "    padding: 20px;\n",
    "    margin: 0;\n",
    "    color: black;\n",
    "    font-family: \"Lucida Console\";\n",
    "    border-radius: 0px\n",
    "}\n",
    "\n",
    "h3 {\n",
    "    text-align: left;\n",
    "    border-style: solid;\n",
    "    border-width: 3px;\n",
    "    padding: 12px;\n",
    "    margin: 0;\n",
    "    color: black;\n",
    "    font-family: \"Lucida Console\";\n",
    "    border-radius: 0px;\n",
    "    border-color: gold;\n",
    "}\n",
    "\n",
    "body, p {\n",
    "    font-family: \"Lucida Console\";\n",
    "    font-size: 15px;\n",
    "    color: charcoal;\n",
    "}\n",
    "div {\n",
    "    font-size: 14px;\n",
    "    margin: 0;\n",
    "\n",
    "}\n",
    "\n",
    "h4 {\n",
    "    padding: 0px;\n",
    "    margin: 0;\n",
    "    font-family: \"Lucida Console\";\n",
    "    color: purple;\n",
    "}\n",
    "</style>\n",
    "\"\"\")"
   ]
  }
 ],
 "metadata": {
  "kernelspec": {
   "display_name": "Python 3",
   "language": "python",
   "name": "python3"
  },
  "language_info": {
   "codemirror_mode": {
    "name": "ipython",
    "version": 3
   },
   "file_extension": ".py",
   "mimetype": "text/x-python",
   "name": "python",
   "nbconvert_exporter": "python",
   "pygments_lexer": "ipython3",
   "version": "3.7.12"
  },
  "papermill": {
   "default_parameters": {},
   "duration": 99.998461,
   "end_time": "2022-09-19T01:15:55.004367",
   "environment_variables": {},
   "exception": null,
   "input_path": "__notebook__.ipynb",
   "output_path": "__notebook__.ipynb",
   "parameters": {},
   "start_time": "2022-09-19T01:14:15.005906",
   "version": "2.3.4"
  }
 },
 "nbformat": 4,
 "nbformat_minor": 5
}
